{
  "nbformat": 4,
  "nbformat_minor": 0,
  "metadata": {
    "colab": {
      "name": "IQ_Option_v003.ipynb",
      "provenance": [],
      "collapsed_sections": [],
      "toc_visible": true,
      "mount_file_id": "1e6j_ONGv3h9mrfcY8FiCMT3thlpzbo8i",
      "authorship_tag": "ABX9TyNBLM8/frNUUoUWhF6EbZ8x",
      "include_colab_link": true
    },
    "kernelspec": {
      "name": "python3",
      "display_name": "Python 3"
    }
  },
  "cells": [
    {
      "cell_type": "markdown",
      "metadata": {
        "id": "view-in-github",
        "colab_type": "text"
      },
      "source": [
        "<a href=\"https://colab.research.google.com/github/hesller/python-ai/blob/main/IQ_Option_v003.ipynb\" target=\"_parent\"><img src=\"https://colab.research.google.com/assets/colab-badge.svg\" alt=\"Open In Colab\"/></a>"
      ]
    },
    {
      "cell_type": "markdown",
      "metadata": {
        "id": "oBy1AcJXGVUp"
      },
      "source": [
        "## Goals\n",
        "\n",
        "*  fazer um loop sobre a lista\n",
        " * pegar index da trade  a ser feita\n",
        " * salvar esse index\n",
        " * calcular tempo que falta para  \n",
        "  * tempo na tabela menos tempo atual\n",
        "  * botar o computador pra dormir essa quantidade de tempo\n",
        "\n",
        "Keep colab running:\n",
        "\n",
        "function ClickConnect(){\n",
        "console.log(\"Working\"); \n",
        "document.querySelector(\"#top-toolbar > colab-connect-button\").shadowRoot.querySelector(\"#connect\").click() \n",
        "}\n",
        "setInterval(ClickConnect,60000)"
      ]
    },
    {
      "cell_type": "code",
      "metadata": {
        "id": "sKkwJ_zF3wz9"
      },
      "source": [
        "!sudo pip3 install -U git+git://github.com/Lu-Yi-Hsun/iqoptionapi.git"
      ],
      "execution_count": null,
      "outputs": []
    },
    {
      "cell_type": "code",
      "metadata": {
        "id": "O6ceTOHQ_dP5"
      },
      "source": [
        "import pandas as pd\n",
        "import numpy as np\n",
        "import time\n",
        "import os\n",
        "from iqoptionapi.stable_api import IQ_Option\n",
        "import logging\n",
        "from datetime import datetime\n",
        "import asyncio\n",
        "\n",
        "logging.disable(level=logging.CRITICAL)"
      ],
      "execution_count": null,
      "outputs": []
    },
    {
      "cell_type": "code",
      "metadata": {
        "id": "pyINrzKTB6ZJ"
      },
      "source": [
        "os.environ['TZ'] = 'Brazil/East'\n",
        "time.tzset()"
      ],
      "execution_count": null,
      "outputs": []
    },
    {
      "cell_type": "markdown",
      "metadata": {
        "id": "_vR-YIqWOIXt"
      },
      "source": [
        "### Make the login and setup server constants\n"
      ]
    },
    {
      "cell_type": "code",
      "metadata": {
        "id": "3AUaasmS_dOU",
        "outputId": "44a3bbd7-1f1b-4ca9-cf83-7d51e8967a21",
        "colab": {
          "base_uri": "https://localhost:8080/",
          "height": 35
        }
      },
      "source": [
        "start = time.perf_counter()\n",
        "iqapi = IQ_Option(\"eng.hesller@gmail.com\",\"IQZinho1508!\")\n",
        "iqapi.connect()\n",
        "finish = time.perf_counter()\n",
        "print(finish - start)"
      ],
      "execution_count": null,
      "outputs": [
        {
          "output_type": "stream",
          "text": [
            "2.857602758000013\n"
          ],
          "name": "stdout"
        }
      ]
    },
    {
      "cell_type": "code",
      "metadata": {
        "id": "kBSyNJdyprnK",
        "outputId": "c57adc70-e4ed-4407-91ba-6d0ab88b2b9f",
        "colab": {
          "base_uri": "https://localhost:8080/",
          "height": 35
        }
      },
      "source": [
        "iqapi.change_balance('REAL')\n",
        "iqapi.get_balance()"
      ],
      "execution_count": null,
      "outputs": [
        {
          "output_type": "execute_result",
          "data": {
            "text/plain": [
              "73.32"
            ]
          },
          "metadata": {
            "tags": []
          },
          "execution_count": 5
        }
      ]
    },
    {
      "cell_type": "markdown",
      "metadata": {
        "id": "lCGJU8anOMJ9"
      },
      "source": [
        "### Get the data\n"
      ]
    },
    {
      "cell_type": "code",
      "metadata": {
        "id": "Wik9G0oaCS4R"
      },
      "source": [
        "# get the dictionary of trades\n",
        "trades_dict = pd.read_csv('/content/19-03-2020_15min.csv', sep=';')\n",
        "trades_dict['asset'] = trades_dict['asset'].str.replace(r'/','')\n",
        "\n",
        "trades_dict"
      ],
      "execution_count": null,
      "outputs": []
    },
    {
      "cell_type": "markdown",
      "metadata": {
        "id": "hBOoUz3kOVYf"
      },
      "source": [
        "### Helper functions\n"
      ]
    },
    {
      "cell_type": "code",
      "metadata": {
        "id": "KH1zgG7yOcA5"
      },
      "source": [
        "def get_secs_left(dataframe, trade_index):\n",
        "  curr_time = time.localtime()\n",
        "  curr_secs = curr_time.tm_hour * 60 * 60 + curr_time.tm_min * 60 + curr_time.tm_sec\n",
        "  trade_secs = dataframe['hour'][trade_index] * 60 * 60 + dataframe['min'][trade_index] * 60\n",
        "\n",
        "  return trade_secs - curr_secs\n",
        "\n",
        "def organize_duration(dataset):\n",
        "    ds = dataset.copy()\n",
        "    for i in range(len(dataset['time'])):\n",
        "        x = dataset['time'][i]\n",
        "        ds.loc[i, 'hour'] = int(x[0:2])\n",
        "        ds.loc[i, 'min'] = int(x[3:5])\n",
        "        ds.loc[i, 'sec'] = int(x[6:])\n",
        "    duration = {\n",
        "        'M5': 1,\n",
        "        'M5': 5,\n",
        "        'M15': 15,\n",
        "        'M30': 30,\n",
        "        'H1': 60,\n",
        "    }\n",
        "    for i in range(len(ds)):\n",
        "        str_dur = dataset['duration'][i]\n",
        "        ds.loc[i, 'duration'] = duration[str_dur]\n",
        "\n",
        "    return ds\n",
        "\n",
        "\n",
        "class TradeAgent:\n",
        "  def __init__(self, trades_dict = {}, start_balance = 0, \n",
        "               initial_trade_size = 1,trade_type = 'binary',\n",
        "               size_streaming=1, mult_factor=1.75, max_mart=1,\n",
        "               stop_loss=12, max_profit=50, use_soros=True,\n",
        "               max_soros=1, digital_win_guess=0.85, mart_soros_draw =True, duration=5, name='', api='iqapi'):\n",
        "    \n",
        "    self.trades_dict = trades_dict\n",
        "    self.starting_balance = start_balance\n",
        "    self.trade_index = 0\n",
        "    self.trade_type = trade_type\n",
        "    self.curr_trade_id = 0\n",
        "    self.trade_duration = duration\n",
        "    self.size_streaming = 1\n",
        "    self.initial_trade_size = initial_trade_size\n",
        "    self.trade_size = self.initial_trade_size\n",
        "    self.mult_factor = mult_factor\n",
        "    self.max_mart = max_mart\n",
        "    self.curr_mart = 0\n",
        "    self.use_mart = True\n",
        "    self.profit_loss = 0\n",
        "    self.server_win_pct = 0.75\n",
        "    self.stop_loss = stop_loss\n",
        "    self.max_profit = max_profit\n",
        "    self.use_soros = use_soros\n",
        "    self.curr_soros = 0\n",
        "    self.max_soros = max_soros\n",
        "    self.digital_win_pct = digital_win_guess\n",
        "    self.mart_soros_on_draw = mart_soros_draw\n",
        "    self.next_soros = True\n",
        "    self.last_trade_won = False\n",
        "    self.name = name\n",
        "    self.iqapi = api\n",
        "\n",
        "  def set_name(self, name):\n",
        "    self.name = name\n",
        "\n",
        "  def set_api(self, api):\n",
        "    self.iqapi = api\n",
        "\n",
        "  def set_asset_and_order(self):\n",
        "    self.curr_asset = str(self.trades_dict['asset'][self.trade_index])\n",
        "    self.curr_order = str(self.trades_dict['order'][self.trade_index]).lower()\n",
        "    self.trade_duration = self.trades_dict['duration'][self.trade_index]\n",
        "  \n",
        "  def set_mult_factor(self, factor):\n",
        "    self.mult_factor = factor\n",
        "\n",
        "  def set_trade_size(self):\n",
        "    self.trade_size *= self.mult_factor\n",
        "  \n",
        "  def set_trade_index(self):\n",
        "    self.trade_index += 1\n",
        "  \n",
        "  def set_last_trade_won(self, condition):\n",
        "    self.last_trade_won = condition\n",
        "    return True\n",
        "\n",
        "  def set_soros_trade_size(self):\n",
        "    print('nothing to set on soros size')\n",
        "  \n",
        "  def set_profit_loss(self, loss):\n",
        "    if loss:\n",
        "      self.profit_loss -= self.trade_size\n",
        "    else:\n",
        "      self.profit_loss += self.trade_size * self.server_win_pct\n",
        "    print('current profit/loss: ', self.profit_loss)\n",
        "\n",
        "  def reset_trade_size(self):\n",
        "    self.trade_size = self.initial_trade_size\n",
        "\n",
        "  def reset_mart(self):\n",
        "    self.curr_mart = 0\n",
        "  \n",
        "  def reset_soros(self):\n",
        "    self.curr_soros = 0\n",
        "\n",
        "  def open_trade(self):\n",
        "      # open the trade\n",
        "      print('- /n')\n",
        "      print('======================')\n",
        "      print('previous balance: ', balance)\n",
        "      print('executing trade...')\n",
        "\n",
        "      if self.trade_type == 'digital':\n",
        "        print('digital option...')\n",
        "        print(f'option: {self.curr_asset}-{self.trade_size}-{self.curr_order}-{self.trade_duration}')\n",
        "        self.curr_trade_id = self.iqapi.buy_digital_spot(self.curr_asset, \n",
        "                                                    self.trade_size, \n",
        "                                                    self.curr_order, \n",
        "                                                    self.trade_duration)\n",
        "        self.curr_trade_id = self.curr_trade_id[1]\n",
        "        # TODO: adjust correcly the server_win_pct\n",
        "        print('digital option requested')\n",
        "        time.sleep(5)\n",
        "        self.server_win_pct= self.digital_win_pct\n",
        "      else:\n",
        "        _, self.curr_trade_id = self.iqapi.buy(self.trade_size, self.curr_asset, \n",
        "                                          self.curr_order, \n",
        "                                          self.trade_duration)\n",
        "        # TODO: adjust correcly the server_win_pct\n",
        "        time.sleep(5)\n",
        "        order_dict = self.iqapi.get_async_order(self.curr_trade_id)\n",
        "        self.server_win_pct = (order_dict['msg']['profit_percent'] -100 ) / 100\n",
        "      # salvando em self, não vou precisar retornar nada\n",
        "      #return id, trade_index, asset,\n",
        "      print('this is the trade id: ', self.curr_trade_id)\n",
        "      if self.curr_trade_id <= 0:\n",
        "        print('instrumento não disponível, trade ID ', self.curr_trade_id )\n",
        "        return False\n",
        "      else:\n",
        "        print('ordem aberta. ID: ', self.curr_trade_id, ' - pct win: ', self.server_win_pct)\n",
        "        return True\n",
        "        \n",
        "  def check_win_loss(self, cc, k):\n",
        "    loss = False # for safety set it default to false\n",
        "    #open_price = iqapi.get_async_order(self.curr_trade_id)['open_underlying_price']\n",
        "    open_price = self.iqapi.get_async_order(self.curr_trade_id)\n",
        "    if self.trade_type != 'digital': \n",
        "      open_price = open_price['msg']['value']\n",
        "    else:\n",
        "      open_price = open_price['position-changed']['msg']['open_quote']\n",
        "\n",
        "    if self.curr_order == 'call':\n",
        "      # check win\n",
        "      if cc[k]['close'] > open_price:\n",
        "        print(f'Agent_{self.name} você ganhou essa negociação.')\n",
        "        loss = False\n",
        "        return loss\n",
        "      # check loss\n",
        "      elif cc[k]['close'] < open_price:\n",
        "        print(f'Agent_{self.name} você perdeu essa negociação')\n",
        "        loss = True\n",
        "        return loss\n",
        "      # check draw\n",
        "      else:\n",
        "        print(f'Agent_{self.name} negociação deu empate.')\n",
        "        if self.trade_type == 'digital':\n",
        "          print(f'Agent_{self.name} o tipo de negociação é: ', self.trade_type)\n",
        "          print(f'Agent_{self.name} assim sendo pelas regras da IQ Option você perdeu essa negociação')\n",
        "          loss = True\n",
        "          return loss\n",
        "        else:\n",
        "          if self.mart_soros_on_draw == True:\n",
        "            loss = True\n",
        "            self.reset_trade_size()\n",
        "          else:\n",
        "            loss = False\n",
        "          return loss\n",
        "    elif self.curr_order == 'put':\n",
        "      #check win\n",
        "      if cc[k]['close'] < open_price:\n",
        "        print(f'Agent_{self.name} você ganhou essa negociação PUT.')\n",
        "        loss = False\n",
        "        return loss\n",
        "      # check loss\n",
        "      elif cc[k]['close'] > open_price:\n",
        "        print(f'Agent_{self.name} você perdeu essa negociação PUT')\n",
        "        loss = True\n",
        "        return loss\n",
        "      # check draw\n",
        "      else:\n",
        "        print(f'Agent_{self.name} negociação deu empate. PUT')\n",
        "        if self.trade_type == 'digital':\n",
        "          print(f'Agent_{self.name} o tipo de negociação é: ', self.trade_type)\n",
        "          print(f'Agent_{self.name} assim sendo pelas regras da IQ Option você perdeu essa negociação. PUT')\n",
        "          loss = True\n",
        "          return loss\n",
        "        else:\n",
        "          if self.mart_soros_on_draw == True:\n",
        "            print('o tipo de negociação é: ', self.trade_type)\n",
        "            print(' e você configurou martingale/soros durante empate: ', self.mart_soros_on_draw)\n",
        "            print(f'Agent_{self.name} assim sendo pelas regras da IQ Option você perdeu essa negociação PUT')\n",
        "            loss = True\n",
        "            self.reset_trade_size()\n",
        "          else:\n",
        "            loss = False\n",
        "          return loss\n",
        "\n",
        "  def start_streaming(self):\n",
        "    print('================== /n')\n",
        "    print(f'Agent_{self.name} Iniciando Stream de preços às: ', time.localtime())\n",
        "    self.iqapi.start_candles_stream(self.curr_asset, self.size_streaming, 1)\n",
        "\n",
        "  def candle_analysis(self):\n",
        "    print(f'Agent_{self.name} analisando vela...  /n')\n",
        "    time.sleep(2)\n",
        "    checked = False\n",
        "    while True:\n",
        "      cc=self.iqapi.get_realtime_candles(self.curr_asset, self.size_streaming)\n",
        "      for k in cc:\n",
        "        curr_sec = int(datetime.fromtimestamp(cc[k]['from']).strftime(\"%S\"))\n",
        "        curr_min = int(datetime.fromtimestamp(cc[k]['from']).strftime(\"%M\"))\n",
        "        curr_time = curr_min * 60 + curr_sec + 1\n",
        "        if curr_time % (self.trade_duration * 60) == 0:\n",
        "          print(f'/n Agent_{self.name} verificando vitória ou derrota...')\n",
        "          loss = self.check_win_loss(cc, k)\n",
        "          checked = True\n",
        "          break\n",
        "      if checked:\n",
        "        break\n",
        "      time.sleep(1)\n",
        "    return loss\n",
        "  \n",
        "  def open_martingale(self):\n",
        "    if self.use_mart:\n",
        "        self.curr_mart += 1\n",
        "        if self.curr_mart <= self.max_mart:\n",
        "          print('==================')\n",
        "          print(f'Agent_{self.name} Martingale de número: ', self.curr_mart)\n",
        "          print(f'Agent_{self.name} Fator mutiplicador: ', self.mult_factor)\n",
        "          # TODO: PODERIA CHAMAR AQUI O SET_MULT_FACTOR PARA FATORES DIFERENTES\n",
        "          # DE MARTINGALE\n",
        "          self.set_trade_size()\n",
        "          print(f'Agent_{self.name} Valor a ser negociado: ', self.trade_size)\n",
        "          ## TODO: definir a função martingale\n",
        "          self.open_trade()\n",
        "          print(f'Agent_{self.name} Negociação Martingale iniciada com sucesso! ID: ', self.curr_trade_id)\n",
        "  \n",
        "  def open_soros(self):\n",
        "    self.trade_size += self.server_win_pct * self.trade_size\n",
        "    if self.use_soros:\n",
        "        self.curr_soros += 1\n",
        "        if self.curr_soros <= self.max_soros:\n",
        "          print('==================')\n",
        "          print('Soros de número: ', self.curr_soros)\n",
        "          #print('Fator mutiplicador: ', self.mult_factor)\n",
        "          # TODO: PODERIA CHAMAR AQUI O SET_MULT_FACTOR PARA FATORES DIFERENTES\n",
        "          # DE MARTINGALE\n",
        "          print('Valor a ser negociado: ', self.trade_size)\n",
        "          ## TODO: definir a função martingale\n",
        "          self.open_trade()\n",
        "          print('Negociação Martingale iniciada com sucesso! ID: ', self.curr_trade_id)\n",
        "\n",
        "  def stop_streaming(self):\n",
        "    self.iqapi.stop_candles_stream(self.curr_asset, self.size_streaming)\n",
        "\n",
        "  def is_final_break(self):\n",
        "    if self.profit_loss < 0 and self.profit_loss <= self.stop_loss:\n",
        "      print('infelizmente você alcançou o stop loss do dia.')\n",
        "      print(' estarei desligando o algoritmo para evitar mais perdas')\n",
        "      return True\n",
        "    elif self.profit_loss > 0 and self.profit_loss >= self.max_profit:\n",
        "      print('parabens a meta do dia foi alcançada...')\n",
        "      print('desligando algoritmo.')\n",
        "      return True\n",
        "    else:\n",
        "      return False\n",
        "\n",
        "  def check_soros(self):\n",
        "    print(\"nothing to do\")\n",
        "\n",
        "  def reset_defaults(self):\n",
        "    self.reset_trade_size()\n",
        "    self.reset_mart()\n",
        "    self.reset_soros()\n",
        "\n",
        "  ## TODO: ADRESS THE ERROR OF NON EXISTING PAIR AVAILABLE"
      ],
      "execution_count": null,
      "outputs": []
    },
    {
      "cell_type": "markdown",
      "metadata": {
        "id": "ryr5e4j-Ws9D"
      },
      "source": [
        "### Main Loop"
      ]
    },
    {
      "cell_type": "code",
      "metadata": {
        "id": "jQ-aNzykuWGO"
      },
      "source": [
        "trading = True\n",
        "trade_index = 0\n",
        "martingale = True\n",
        "duration = 1\n",
        "otc = False\n",
        "digital = True\n",
        "balance = iqapi.get_balance()\n",
        "trades_dict = organize_duration(trades_dict)"
      ],
      "execution_count": null,
      "outputs": []
    },
    {
      "cell_type": "code",
      "metadata": {
        "id": "ThNgiyuHARq3"
      },
      "source": [
        "idx = 0\n",
        "idx_equal_1 = []\n",
        "idx_equal_2 = []\n",
        "idx_equal_3 = []\n",
        "new_ds = trades_dict\n",
        "\n",
        "while idx < len(new_ds) - 4:\n",
        "    sec = new_ds.loc[idx, 'hour'] * 3600 + new_ds.loc[idx, 'min'] * 60\n",
        "    next_sec = new_ds.loc[idx+1, 'hour'] * 3600 + new_ds.loc[idx+1, 'min'] * 60\n",
        "    next_2_sec = new_ds.loc[idx+2, 'hour'] * 3600 + new_ds.loc[idx+2, 'min'] * 60\n",
        "    next_3_sec = new_ds.loc[idx+3, 'hour'] * 3600 + new_ds.loc[idx+3, 'min'] * 60\n",
        "\n",
        "    if sec == next_sec:\n",
        "        idx_equal_1.append(idx+1)\n",
        "        if sec == next_2_sec:\n",
        "            idx_equal_2.append(idx + 2)\n",
        "            if sec == next_3_sec:\n",
        "                idx_equal_3.append(idx + 3)\n",
        "    idx += 1\n",
        "\n",
        "second_ds = pd.DataFrame()\n",
        "third_ds = pd.DataFrame()\n",
        "forth_ds = pd.DataFrame()\n",
        "\n",
        "second_ds = new_ds.loc[idx_equal_1]\n",
        "third_ds = new_ds.loc[idx_equal_2]\n",
        "forth_ds = new_ds.loc[idx_equal_3]\n",
        "\n",
        "second_ds = second_ds.drop(idx_equal_2)\n",
        "third_ds = third_ds.drop(idx_equal_3)\n",
        "\n",
        "list1 = list(set(idx_equal_1) | set(idx_equal_2))\n",
        "list2 = list(set(list1) | set(idx_equal_3))\n",
        "\n",
        "first_ds = new_ds.drop(list2)"
      ],
      "execution_count": null,
      "outputs": []
    },
    {
      "cell_type": "code",
      "metadata": {
        "id": "qqzg_9l4AhAz"
      },
      "source": [
        "ds_vector = [first_ds, second_ds, third_ds, forth_ds]\n",
        "for ds in ds_vector:\n",
        "  ds.set_index('time',inplace=True)\n",
        "  ds.reset_index(inplace=True)\n",
        "process_vector = [1, 2, 3, 4]"
      ],
      "execution_count": null,
      "outputs": []
    },
    {
      "cell_type": "code",
      "metadata": {
        "id": "gmzIr4bJcsoE"
      },
      "source": [
        "timenow = time.localtime()\n",
        "for dictio in ds_vector:\n",
        "  for i in range(len(dictio)):\n",
        "    if i < 2:\n",
        "      dictio.loc[i, 'min'] = timenow.tm_min + 2\n",
        "      dictio.loc[i, 'hour'] = timenow.tm_hour\n",
        "      dictio.loc[i, 'asset'] = 'EURUSD'\n",
        "    elif i <= 4:\n",
        "      dictio.loc[i, 'min'] = timenow.tm_min + 4\n",
        "      dictio.loc[i, 'hour'] = timenow.tm_hour\n",
        "      dictio.loc[i, 'asset'] = 'USDJPY'\n",
        "    elif i <= 8:\n",
        "      dictio.loc[i, 'min'] = timenow.tm_min + 8\n",
        "      dictio.loc[i, 'hour'] = timenow.tm_hour\n",
        "      dictio.loc[i, 'asset'] = 'EURUSD'\n",
        "    else:\n",
        "      dictio.loc[i, 'min'] = timenow.tm_min + 8\n",
        "      dictio.loc[i, 'hour'] = timenow.tm_hour\n",
        "      dictio.loc[i, 'asset'] = 'USDJPY'"
      ],
      "execution_count": null,
      "outputs": []
    },
    {
      "cell_type": "code",
      "metadata": {
        "id": "pdjHp9PK_ZXf"
      },
      "source": [
        "### function loop"
      ],
      "execution_count": null,
      "outputs": []
    },
    {
      "cell_type": "markdown",
      "metadata": {
        "id": "iRMmPQ2l_Zpu"
      },
      "source": [
        "### Open process function"
      ]
    },
    {
      "cell_type": "code",
      "metadata": {
        "id": "AL2UwRyfWwP9"
      },
      "source": [
        "def open_process(trades_dict, agent):\n",
        "  process_number = agent.name\n",
        "  \n",
        "  iqapi = IQ_Option('eng.hesller@gmail.com', 'IQZinho1508!')\n",
        "  iqapi.connect()\n",
        "  iqapi.change_balance('REAL')\n",
        "  print('the inicial balance: ', iqapi.get_balance())\n",
        "  time.sleep(10)\n",
        "  os.environ['TZ'] = 'Brazil/East'\n",
        "  time.tzset()\n",
        "\n",
        "  agent.set_api(iqapi)\n",
        "\n",
        "  i = 0\n",
        "  while i < len(trades_dict):\n",
        "    i+=1\n",
        "    # comput the seconds left for the next trade and sleep\n",
        "    print(f'computing seconds left in process {process_number}...')\n",
        "    if agent.trade_index >= len(trades_dict):\n",
        "      msg = f' index fora de range... Finalizando {process_number}. Obrigado :)'\n",
        "      break\n",
        "\n",
        "    secs_left = get_secs_left(trades_dict, agent.trade_index)\n",
        "\n",
        "    if secs_left < 0:\n",
        "      agent.set_trade_index()\n",
        "    if secs_left > 0:\n",
        "      print(f'{process_number} sleeping for: {secs_left} seconds. ')\n",
        "      time.sleep(np.abs(secs_left - 60))\n",
        "      iqapi.connect()\n",
        "    \n",
        "      secs_left = get_secs_left(trades_dict, agent.trade_index)\n",
        "\n",
        "      if secs_left < 0:\n",
        "        agent.set_trade_index()\n",
        "      if secs_left > 0:\n",
        "        print(f'{process_number} sleeping for: {secs_left} seconds. ')\n",
        "        time.sleep(np.abs(secs_left - 2))\n",
        "\n",
        "      # criar uma função a partir daqui\n",
        "      agent.set_asset_and_order()\n",
        "\n",
        "      print('iniciando negociação normal')\n",
        "      print('valor negociado: ', agent.trade_size)\n",
        "      #agent.set_asset_and_order()\n",
        "      msg = ''\n",
        "      opened = agent.open_trade()\n",
        "      \n",
        "      if opened == False:\n",
        "        print(\"asset não está disponivel no momento\")\n",
        "        print('indo para proxima negociação')\n",
        "        continue\n",
        "      else:\n",
        "        print('negociação aberta com sucesso...iniciando streaming')\n",
        "        agent.start_streaming()\n",
        "        loss = agent.candle_analysis()\n",
        "\n",
        "      # atualiza lucro ou perda geral do dia\n",
        "      agent.set_profit_loss(loss)\n",
        "      \n",
        "      # entrando  no loop para loss=True/False\n",
        "      # primeiro: se eu perdi, sempre vou abrir martingale! Sempre!\n",
        "      if loss:\n",
        "        opened = agent.open_martingale()\n",
        "        mart_loss = agent.candle_analysis()\n",
        "        agent.set_last_trade_won(False)\n",
        "\n",
        "        # atualiza lucro ou perda geral do dia\n",
        "        agent.set_profit_loss(mart_loss)\n",
        "\n",
        "        if mart_loss:\n",
        "          print('Número máximo de martingale atingido.')\n",
        "          print(f'infelizmente você não ganhou no primeiro mart. no processo {process_number}')\n",
        "          print( f'abrindo segundo martingale, no {process_number}')\n",
        "          opened = agent.open_martingale()\n",
        "          mart_loss = agent.candle_analysis()\n",
        "          agent.set_last_trade_won(False)\n",
        "\n",
        "          # atualiza lucro ou perda geral do dia\n",
        "          agent.set_profit_loss(mart_loss)\n",
        "          is_final_break = agent.is_final_break()\n",
        "          if mart_loss:\n",
        "            print('segundo martingale tbm perdeu')\n",
        "          if is_final_break:\n",
        "            break\n",
        "        else:\n",
        "          print(f'parabens você ganhou no primeiro martingale. no processo {process_number}')\n",
        "          is_final_break = agent.is_final_break()\n",
        "          if is_final_break:\n",
        "            break\n",
        "      \n",
        "      # caso tenha ganhado, só abrirei soros se não tiver atingido a meta.    \n",
        "      else:\n",
        "        # parabens você ganhou esta negociação na proxima abriremos soros\n",
        "        #if agent.last_trade_won:\n",
        "        #  agent.set_last_trade_won(False)\n",
        "        #else:\n",
        "        #  agent.set_last_trade_won(True)\n",
        "        # verifica se meta do dia foi atingida\n",
        "        is_final_break = agent.is_final_break()\n",
        "        if is_final_break:\n",
        "          break\n",
        "      \n",
        "      # parando o streaming\n",
        "      print('parando o streaming de preços...')\n",
        "      agent.stop_streaming()\n",
        "      # resetar valores antes do proximo loop\n",
        "      # - resetar trade size\n",
        "      # - resetar fator de multiplicação\n",
        "      print( f'{process_number} resetando valores de negociação e martingale... ')\n",
        "      agent.reset_defaults()\n",
        "      print(f'{process_number} ajustando index da tabela de sinais...')\n",
        "      agent.set_trade_index()\n",
        "      print(f'{process_number} indo para a proxima análise no processo {process_number}... /n /n')\n",
        "\n",
        "      ## problems: i dont have access to win pct of the normal binary\n",
        "      ##           before open a trade. How to open soros in this situation?\n",
        "  return msg"
      ],
      "execution_count": null,
      "outputs": []
    },
    {
      "cell_type": "code",
      "metadata": {
        "id": "aeDzmBbKd9hg"
      },
      "source": [
        "agents_vector = []\n",
        "for i in range(4):\n",
        "  agent = TradeAgent(ds_vector[i], start_balance=balance, trade_type='digital',\n",
        "                    initial_trade_size=2, stop_loss=-99999, duration=5,\n",
        "                    max_profit=32)\n",
        "  name = f'agent_{i}'\n",
        "  agent.set_name(name)\n",
        "  agents_vector.append(agent)"
      ],
      "execution_count": null,
      "outputs": []
    },
    {
      "cell_type": "code",
      "metadata": {
        "id": "CQCjZ8s1AseO",
        "outputId": "89a26c51-d0bd-4a6f-fe46-1446d6d63d99",
        "colab": {
          "base_uri": "https://localhost:8080/",
          "height": 1000
        }
      },
      "source": [
        "import concurrent.futures\n",
        "\n",
        "with concurrent.futures.ProcessPoolExecutor(max_workers=4) as executor:\n",
        "    results = []\n",
        "    for i in range(4):\n",
        "      results.append(executor.submit(open_process, ds_vector[i], agents_vector[i]))"
      ],
      "execution_count": null,
      "outputs": [
        {
          "output_type": "stream",
          "text": [
            "the inicial balance:  61.96\n",
            "the inicial balance:  61.96\n",
            "the inicial balance:  61.96\n",
            "the inicial balance:  61.96\n",
            "computing seconds left in process agent_0...\n",
            "agent_0 sleeping for: 170.0 seconds. \n",
            "agent_0 sleeping for: 59.0 seconds. \n",
            "iniciando negociação normal\n",
            "valor negociado:  2\n",
            "- /n\n",
            "======================\n",
            "previous balance:  3915.35\n",
            "executing trade...\n",
            "digital option...\n",
            "option: GBPCAD-2-call-5\n",
            "digital option requested\n",
            "this is the trade id:  11517634962\n",
            "ordem aberta. ID:  11517634962  - pct win:  0.85\n",
            "negociação aberta com sucesso...iniciando streaming\n",
            "================== /n\n",
            "Agent_agent_0 Iniciando Stream de preços às:  time.struct_time(tm_year=2020, tm_mon=4, tm_mday=10, tm_hour=4, tm_min=40, tm_sec=5, tm_wday=4, tm_yday=101, tm_isdst=0)\n",
            "Agent_agent_0 analisando vela...  /n\n",
            "/n Agent_agent_0 verificando vitória ou derrota...\n",
            "Agent_agent_0 você ganhou essa negociação.\n",
            "current profit/loss:  1.7\n",
            "parando o streaming de preços...\n",
            "agent_0 resetando valores de negociação e martingale... \n",
            "agent_0 ajustando index da tabela de sinais...\n",
            "agent_0 indo para a proxima análise no processo agent_0... /n /n\n",
            "computing seconds left in process agent_0...\n",
            "agent_0 sleeping for: 2390.0 seconds. \n",
            "agent_0 sleeping for: 58.0 seconds. \n",
            "iniciando negociação normal\n",
            "valor negociado:  2\n",
            "- /n\n",
            "======================\n",
            "previous balance:  3915.35\n",
            "executing trade...\n",
            "digital option...\n",
            "option: AUDJPY-2-put-5\n",
            "digital option requested\n",
            "this is the trade id:  11517789648\n",
            "ordem aberta. ID:  11517789648  - pct win:  0.85\n",
            "negociação aberta com sucesso...iniciando streaming\n",
            "================== /n\n",
            "Agent_agent_0 Iniciando Stream de preços às:  time.struct_time(tm_year=2020, tm_mon=4, tm_mday=10, tm_hour=5, tm_min=25, tm_sec=4, tm_wday=4, tm_yday=101, tm_isdst=0)\n",
            "Agent_agent_0 analisando vela...  /n\n",
            "/n Agent_agent_0 verificando vitória ou derrota...\n",
            "Agent_agent_0 você ganhou essa negociação PUT.\n",
            "current profit/loss:  3.4\n",
            "parando o streaming de preços...\n",
            "agent_0 resetando valores de negociação e martingale... \n",
            "agent_0 ajustando index da tabela de sinais...\n",
            "agent_0 indo para a proxima análise no processo agent_0... /n /n\n",
            "computing seconds left in process agent_0...\n",
            "agent_0 sleeping for: 3595.0 seconds. \n",
            "agent_0 sleeping for: 58.0 seconds. \n",
            "iniciando negociação normal\n",
            "valor negociado:  2\n",
            "- /n\n",
            "======================\n",
            "previous balance:  3915.35\n",
            "executing trade...\n",
            "digital option...\n",
            "option: USDCAD-2-call-5\n",
            "digital option requested\n",
            "this is the trade id:  11517986478\n",
            "ordem aberta. ID:  11517986478  - pct win:  0.85\n",
            "negociação aberta com sucesso...iniciando streaming\n",
            "================== /n\n",
            "Agent_agent_0 Iniciando Stream de preços às:  time.struct_time(tm_year=2020, tm_mon=4, tm_mday=10, tm_hour=6, tm_min=30, tm_sec=5, tm_wday=4, tm_yday=101, tm_isdst=0)\n",
            "Agent_agent_0 analisando vela...  /n\n",
            "/n Agent_agent_0 verificando vitória ou derrota...\n",
            "Agent_agent_0 você ganhou essa negociação.\n",
            "current profit/loss:  5.1\n",
            "parando o streaming de preços...\n",
            "agent_0 resetando valores de negociação e martingale... \n",
            "agent_0 ajustando index da tabela de sinais...\n",
            "agent_0 indo para a proxima análise no processo agent_0... /n /n\n",
            "computing seconds left in process agent_0...\n",
            "agent_0 sleeping for: 595.0 seconds. \n",
            "agent_0 sleeping for: 58.0 seconds. \n",
            "iniciando negociação normal\n",
            "valor negociado:  2\n",
            "- /n\n",
            "======================\n",
            "previous balance:  3915.35\n",
            "executing trade...\n",
            "digital option...\n",
            "option: EURUSD-2-call-5\n",
            "digital option requested\n",
            "this is the trade id:  11518032912\n",
            "ordem aberta. ID:  11518032912  - pct win:  0.85\n",
            "negociação aberta com sucesso...iniciando streaming\n",
            "================== /n\n",
            "Agent_agent_0 Iniciando Stream de preços às:  time.struct_time(tm_year=2020, tm_mon=4, tm_mday=10, tm_hour=6, tm_min=45, tm_sec=5, tm_wday=4, tm_yday=101, tm_isdst=0)\n",
            "Agent_agent_0 analisando vela...  /n\n",
            "/n Agent_agent_0 verificando vitória ou derrota...\n",
            "Agent_agent_0 você perdeu essa negociação\n",
            "current profit/loss:  3.0999999999999996\n",
            "==================\n",
            "Agent_agent_0 Martingale de número:  1\n",
            "Agent_agent_0 Fator mutiplicador:  1.75\n",
            "Agent_agent_0 Valor a ser negociado:  3.5\n",
            "- /n\n",
            "======================\n",
            "previous balance:  3915.35\n",
            "executing trade...\n",
            "digital option...\n",
            "option: EURUSD-3.5-call-5\n",
            "digital option requested\n",
            "this is the trade id:  11518047644\n",
            "ordem aberta. ID:  11518047644  - pct win:  0.85\n",
            "Agent_agent_0 Negociação Martingale iniciada com sucesso! ID:  11518047644\n",
            "Agent_agent_0 analisando vela...  /n\n",
            "/n Agent_agent_0 verificando vitória ou derrota...\n",
            "Agent_agent_0 você perdeu essa negociação\n",
            "current profit/loss:  -0.40000000000000036\n",
            "Número máximo de martingale atingido.\n",
            "infelizmente você não ganhou no primeiro mart. no processo agent_0\n",
            "abrindo segundo martingale, no agent_0\n",
            "Agent_agent_0 analisando vela...  /n\n",
            "/n Agent_agent_0 verificando vitória ou derrota...\n",
            "Agent_agent_0 você ganhou essa negociação.\n",
            "current profit/loss:  2.5749999999999997\n",
            "parando o streaming de preços...\n",
            "agent_0 resetando valores de negociação e martingale... \n",
            "agent_0 ajustando index da tabela de sinais...\n",
            "agent_0 indo para a proxima análise no processo agent_0... /n /n\n",
            "computing seconds left in process agent_0...\n",
            "computing seconds left in process agent_0...\n",
            "computing seconds left in process agent_0...\n",
            "agent_0 sleeping for: 5390.0 seconds. \n",
            "agent_0 sleeping for: 58.0 seconds. \n",
            "iniciando negociação normal\n",
            "valor negociado:  2\n",
            "- /n\n",
            "======================\n",
            "previous balance:  3915.35\n",
            "executing trade...\n",
            "digital option...\n",
            "option: EURJPY-2-put-5\n",
            "digital option requested\n",
            "this is the trade id:  {'message': 'active_closed'}\n"
          ],
          "name": "stdout"
        }
      ]
    },
    {
      "cell_type": "code",
      "metadata": {
        "id": "WtQAJejgXWXP",
        "outputId": "dec9fd68-924d-443b-e53f-4ef99f965458",
        "colab": {
          "base_uri": "https://localhost:8080/",
          "height": 35
        }
      },
      "source": [
        "iqapi.change_balance('PRACTICE')\n",
        "iqapi.get_balance()"
      ],
      "execution_count": null,
      "outputs": [
        {
          "output_type": "execute_result",
          "data": {
            "text/plain": [
              "3901.25"
            ]
          },
          "metadata": {
            "tags": []
          },
          "execution_count": 43
        }
      ]
    },
    {
      "cell_type": "code",
      "metadata": {
        "id": "MJ4Q-SFOq511"
      },
      "source": [
        "id = iqapi.buy_digital_spot('EURUSD',1,'call',1)"
      ],
      "execution_count": null,
      "outputs": []
    },
    {
      "cell_type": "code",
      "metadata": {
        "id": "KTXuV9vnJMFe"
      },
      "source": [
        "open_price = iqapi.get_async_order(id[1])"
      ],
      "execution_count": null,
      "outputs": []
    },
    {
      "cell_type": "code",
      "metadata": {
        "id": "zkJdBgD8JgKb",
        "outputId": "e2a7ce59-203b-4b58-c169-98d19cb778e9",
        "colab": {
          "base_uri": "https://localhost:8080/",
          "height": 35
        }
      },
      "source": [
        "open_price['open_underlying_price']"
      ],
      "execution_count": null,
      "outputs": [
        {
          "output_type": "execute_result",
          "data": {
            "text/plain": [
              "{}"
            ]
          },
          "metadata": {
            "tags": []
          },
          "execution_count": 51
        }
      ]
    },
    {
      "cell_type": "code",
      "metadata": {
        "id": "uJenND17JySn",
        "outputId": "fc3fa151-c01f-40df-efee-fa8c8ce86d5f",
        "colab": {
          "base_uri": "https://localhost:8080/",
          "height": 35
        }
      },
      "source": [
        "open_price['position-changed']['msg']['open_quote']"
      ],
      "execution_count": null,
      "outputs": [
        {
          "output_type": "execute_result",
          "data": {
            "text/plain": [
              "1.08161"
            ]
          },
          "metadata": {
            "tags": []
          },
          "execution_count": 59
        }
      ]
    },
    {
      "cell_type": "code",
      "metadata": {
        "id": "ferQTBJ9IM4j",
        "outputId": "57462d23-02b6-43d0-e6a2-509094f4c2b0",
        "colab": {
          "base_uri": "https://localhost:8080/",
          "height": 134
        }
      },
      "source": [
        "import concurrent.futures\n",
        "import time\n",
        "import multiprocessing\n",
        "\n",
        "def do_something(seconds):\n",
        "    print('sleeping for: ', seconds)\n",
        "    time.sleep(seconds)\n",
        "    return f'done sleeping..{seconds}'\n",
        "\n",
        "start = time.perf_counter()\n",
        "\n",
        "with concurrent.futures.ProcessPoolExecutor() as executor:\n",
        "    seconds = [2, 10, 5]\n",
        "\n",
        "    result = [executor.submit(do_something, sec) for sec in seconds]\n",
        "\n",
        "    for f in concurrent.futures.as_completed(result):\n",
        "        print(f.result())\n",
        "\n",
        "finish = time.perf_counter()\n",
        "\n",
        "print('finished in: ', start - finish)\n",
        "\n"
      ],
      "execution_count": null,
      "outputs": [
        {
          "output_type": "stream",
          "text": [
            "sleeping for:  10\n",
            "sleeping for:  2\n",
            "sleeping for:  5\n",
            "done sleeping..2\n",
            "done sleeping..5\n",
            "done sleeping..10\n",
            "finished in:  -10.03250889200001\n"
          ],
          "name": "stdout"
        }
      ]
    },
    {
      "cell_type": "code",
      "metadata": {
        "id": "t5EauKMAI060"
      },
      "source": [
        ""
      ],
      "execution_count": null,
      "outputs": []
    },
    {
      "cell_type": "code",
      "metadata": {
        "id": "CKGCgGHKB6jY",
        "outputId": "3d338ece-ba40-4472-f7ca-3a8764efb879",
        "colab": {
          "base_uri": "https://localhost:8080/",
          "height": 935
        }
      },
      "source": [
        "ds_vector[0]"
      ],
      "execution_count": null,
      "outputs": [
        {
          "output_type": "execute_result",
          "data": {
            "text/html": [
              "<div>\n",
              "<style scoped>\n",
              "    .dataframe tbody tr th:only-of-type {\n",
              "        vertical-align: middle;\n",
              "    }\n",
              "\n",
              "    .dataframe tbody tr th {\n",
              "        vertical-align: top;\n",
              "    }\n",
              "\n",
              "    .dataframe thead th {\n",
              "        text-align: right;\n",
              "    }\n",
              "</style>\n",
              "<table border=\"1\" class=\"dataframe\">\n",
              "  <thead>\n",
              "    <tr style=\"text-align: right;\">\n",
              "      <th></th>\n",
              "      <th>time</th>\n",
              "      <th>duration</th>\n",
              "      <th>asset</th>\n",
              "      <th>order</th>\n",
              "      <th>hour</th>\n",
              "      <th>min</th>\n",
              "      <th>sec</th>\n",
              "    </tr>\n",
              "  </thead>\n",
              "  <tbody>\n",
              "    <tr>\n",
              "      <th>0</th>\n",
              "      <td>12:52:00</td>\n",
              "      <td>1</td>\n",
              "      <td>CADJPY</td>\n",
              "      <td>PUT</td>\n",
              "      <td>12.0</td>\n",
              "      <td>52.0</td>\n",
              "      <td>0.0</td>\n",
              "    </tr>\n",
              "    <tr>\n",
              "      <th>1</th>\n",
              "      <td>12:52:00</td>\n",
              "      <td>1</td>\n",
              "      <td>EURGBP</td>\n",
              "      <td>CALL</td>\n",
              "      <td>12.0</td>\n",
              "      <td>52.0</td>\n",
              "      <td>0.0</td>\n",
              "    </tr>\n",
              "    <tr>\n",
              "      <th>2</th>\n",
              "      <td>12:52:00</td>\n",
              "      <td>1</td>\n",
              "      <td>USDCAD</td>\n",
              "      <td>CALL</td>\n",
              "      <td>12.0</td>\n",
              "      <td>52.0</td>\n",
              "      <td>0.0</td>\n",
              "    </tr>\n",
              "    <tr>\n",
              "      <th>3</th>\n",
              "      <td>08:55:00</td>\n",
              "      <td>1</td>\n",
              "      <td>EURCHF</td>\n",
              "      <td>CALL</td>\n",
              "      <td>8.0</td>\n",
              "      <td>55.0</td>\n",
              "      <td>0.0</td>\n",
              "    </tr>\n",
              "    <tr>\n",
              "      <th>4</th>\n",
              "      <td>08:57:00</td>\n",
              "      <td>1</td>\n",
              "      <td>EURCHF</td>\n",
              "      <td>CALL</td>\n",
              "      <td>8.0</td>\n",
              "      <td>57.0</td>\n",
              "      <td>0.0</td>\n",
              "    </tr>\n",
              "    <tr>\n",
              "      <th>5</th>\n",
              "      <td>10:30:00</td>\n",
              "      <td>1</td>\n",
              "      <td>EURCAD</td>\n",
              "      <td>CALL</td>\n",
              "      <td>10.0</td>\n",
              "      <td>30.0</td>\n",
              "      <td>0.0</td>\n",
              "    </tr>\n",
              "    <tr>\n",
              "      <th>6</th>\n",
              "      <td>10:30:00</td>\n",
              "      <td>1</td>\n",
              "      <td>USDCAD</td>\n",
              "      <td>CALL</td>\n",
              "      <td>10.0</td>\n",
              "      <td>30.0</td>\n",
              "      <td>0.0</td>\n",
              "    </tr>\n",
              "    <tr>\n",
              "      <th>7</th>\n",
              "      <td>10:30:00</td>\n",
              "      <td>1</td>\n",
              "      <td>USDCHF</td>\n",
              "      <td>PUT</td>\n",
              "      <td>10.0</td>\n",
              "      <td>30.0</td>\n",
              "      <td>0.0</td>\n",
              "    </tr>\n",
              "    <tr>\n",
              "      <th>8</th>\n",
              "      <td>10:30:00</td>\n",
              "      <td>1</td>\n",
              "      <td>USDJPY</td>\n",
              "      <td>PUT</td>\n",
              "      <td>10.0</td>\n",
              "      <td>30.0</td>\n",
              "      <td>0.0</td>\n",
              "    </tr>\n",
              "    <tr>\n",
              "      <th>9</th>\n",
              "      <td>10:32:00</td>\n",
              "      <td>1</td>\n",
              "      <td>EURCAD</td>\n",
              "      <td>CALL</td>\n",
              "      <td>10.0</td>\n",
              "      <td>32.0</td>\n",
              "      <td>0.0</td>\n",
              "    </tr>\n",
              "    <tr>\n",
              "      <th>10</th>\n",
              "      <td>10:32:00</td>\n",
              "      <td>1</td>\n",
              "      <td>USDCAD</td>\n",
              "      <td>CALL</td>\n",
              "      <td>10.0</td>\n",
              "      <td>32.0</td>\n",
              "      <td>0.0</td>\n",
              "    </tr>\n",
              "    <tr>\n",
              "      <th>11</th>\n",
              "      <td>10:32:00</td>\n",
              "      <td>1</td>\n",
              "      <td>USDCHF</td>\n",
              "      <td>PUT</td>\n",
              "      <td>10.0</td>\n",
              "      <td>32.0</td>\n",
              "      <td>0.0</td>\n",
              "    </tr>\n",
              "    <tr>\n",
              "      <th>12</th>\n",
              "      <td>10:32:00</td>\n",
              "      <td>1</td>\n",
              "      <td>USDJPY</td>\n",
              "      <td>PUT</td>\n",
              "      <td>10.0</td>\n",
              "      <td>32.0</td>\n",
              "      <td>0.0</td>\n",
              "    </tr>\n",
              "    <tr>\n",
              "      <th>13</th>\n",
              "      <td>16:25:00</td>\n",
              "      <td>1</td>\n",
              "      <td>USDJPY</td>\n",
              "      <td>PUT</td>\n",
              "      <td>16.0</td>\n",
              "      <td>25.0</td>\n",
              "      <td>0.0</td>\n",
              "    </tr>\n",
              "    <tr>\n",
              "      <th>14</th>\n",
              "      <td>10:35:00</td>\n",
              "      <td>1</td>\n",
              "      <td>CADJPY</td>\n",
              "      <td>PUT</td>\n",
              "      <td>10.0</td>\n",
              "      <td>35.0</td>\n",
              "      <td>0.0</td>\n",
              "    </tr>\n",
              "    <tr>\n",
              "      <th>15</th>\n",
              "      <td>10:35:00</td>\n",
              "      <td>1</td>\n",
              "      <td>GBPCHF</td>\n",
              "      <td>PUT</td>\n",
              "      <td>10.0</td>\n",
              "      <td>35.0</td>\n",
              "      <td>0.0</td>\n",
              "    </tr>\n",
              "    <tr>\n",
              "      <th>16</th>\n",
              "      <td>10:35:00</td>\n",
              "      <td>1</td>\n",
              "      <td>USDCAD</td>\n",
              "      <td>CALL</td>\n",
              "      <td>10.0</td>\n",
              "      <td>35.0</td>\n",
              "      <td>0.0</td>\n",
              "    </tr>\n",
              "    <tr>\n",
              "      <th>17</th>\n",
              "      <td>16:27:00</td>\n",
              "      <td>1</td>\n",
              "      <td>USDJPY</td>\n",
              "      <td>PUT</td>\n",
              "      <td>16.0</td>\n",
              "      <td>27.0</td>\n",
              "      <td>0.0</td>\n",
              "    </tr>\n",
              "    <tr>\n",
              "      <th>18</th>\n",
              "      <td>10:37:00</td>\n",
              "      <td>1</td>\n",
              "      <td>CADJPY</td>\n",
              "      <td>PUT</td>\n",
              "      <td>10.0</td>\n",
              "      <td>37.0</td>\n",
              "      <td>0.0</td>\n",
              "    </tr>\n",
              "    <tr>\n",
              "      <th>19</th>\n",
              "      <td>10:37:00</td>\n",
              "      <td>1</td>\n",
              "      <td>GBPCHF</td>\n",
              "      <td>PUT</td>\n",
              "      <td>10.0</td>\n",
              "      <td>37.0</td>\n",
              "      <td>0.0</td>\n",
              "    </tr>\n",
              "    <tr>\n",
              "      <th>20</th>\n",
              "      <td>10:37:00</td>\n",
              "      <td>1</td>\n",
              "      <td>USDCAD</td>\n",
              "      <td>CALL</td>\n",
              "      <td>10.0</td>\n",
              "      <td>37.0</td>\n",
              "      <td>0.0</td>\n",
              "    </tr>\n",
              "    <tr>\n",
              "      <th>21</th>\n",
              "      <td>17:20:00</td>\n",
              "      <td>1</td>\n",
              "      <td>USDJPY</td>\n",
              "      <td>PUT</td>\n",
              "      <td>17.0</td>\n",
              "      <td>20.0</td>\n",
              "      <td>0.0</td>\n",
              "    </tr>\n",
              "    <tr>\n",
              "      <th>22</th>\n",
              "      <td>17:22:00</td>\n",
              "      <td>1</td>\n",
              "      <td>USDJPY</td>\n",
              "      <td>PUT</td>\n",
              "      <td>17.0</td>\n",
              "      <td>22.0</td>\n",
              "      <td>0.0</td>\n",
              "    </tr>\n",
              "    <tr>\n",
              "      <th>23</th>\n",
              "      <td>11:50:00</td>\n",
              "      <td>1</td>\n",
              "      <td>GBPAUD</td>\n",
              "      <td>CALL</td>\n",
              "      <td>11.0</td>\n",
              "      <td>50.0</td>\n",
              "      <td>0.0</td>\n",
              "    </tr>\n",
              "    <tr>\n",
              "      <th>24</th>\n",
              "      <td>11:52:00</td>\n",
              "      <td>1</td>\n",
              "      <td>GBPAUD</td>\n",
              "      <td>CALL</td>\n",
              "      <td>11.0</td>\n",
              "      <td>52.0</td>\n",
              "      <td>0.0</td>\n",
              "    </tr>\n",
              "    <tr>\n",
              "      <th>25</th>\n",
              "      <td>12:45:00</td>\n",
              "      <td>1</td>\n",
              "      <td>EURGBP</td>\n",
              "      <td>CALL</td>\n",
              "      <td>12.0</td>\n",
              "      <td>45.0</td>\n",
              "      <td>0.0</td>\n",
              "    </tr>\n",
              "    <tr>\n",
              "      <th>26</th>\n",
              "      <td>12:47:00</td>\n",
              "      <td>1</td>\n",
              "      <td>EURGBP</td>\n",
              "      <td>CALL</td>\n",
              "      <td>12.0</td>\n",
              "      <td>47.0</td>\n",
              "      <td>0.0</td>\n",
              "    </tr>\n",
              "    <tr>\n",
              "      <th>27</th>\n",
              "      <td>12:50:00</td>\n",
              "      <td>1</td>\n",
              "      <td>CADJPY</td>\n",
              "      <td>PUT</td>\n",
              "      <td>12.0</td>\n",
              "      <td>50.0</td>\n",
              "      <td>0.0</td>\n",
              "    </tr>\n",
              "    <tr>\n",
              "      <th>28</th>\n",
              "      <td>12:50:00</td>\n",
              "      <td>1</td>\n",
              "      <td>EURGBP</td>\n",
              "      <td>CALL</td>\n",
              "      <td>12.0</td>\n",
              "      <td>50.0</td>\n",
              "      <td>0.0</td>\n",
              "    </tr>\n",
              "    <tr>\n",
              "      <th>29</th>\n",
              "      <td>12:50:00</td>\n",
              "      <td>1</td>\n",
              "      <td>USDCAD</td>\n",
              "      <td>CALL</td>\n",
              "      <td>12.0</td>\n",
              "      <td>50.0</td>\n",
              "      <td>0.0</td>\n",
              "    </tr>\n",
              "  </tbody>\n",
              "</table>\n",
              "</div>"
            ],
            "text/plain": [
              "        time  duration   asset order  hour   min  sec\n",
              "0   12:52:00         1  CADJPY   PUT  12.0  52.0  0.0\n",
              "1   12:52:00         1  EURGBP  CALL  12.0  52.0  0.0\n",
              "2   12:52:00         1  USDCAD  CALL  12.0  52.0  0.0\n",
              "3   08:55:00         1  EURCHF  CALL   8.0  55.0  0.0\n",
              "4   08:57:00         1  EURCHF  CALL   8.0  57.0  0.0\n",
              "5   10:30:00         1  EURCAD  CALL  10.0  30.0  0.0\n",
              "6   10:30:00         1  USDCAD  CALL  10.0  30.0  0.0\n",
              "7   10:30:00         1  USDCHF   PUT  10.0  30.0  0.0\n",
              "8   10:30:00         1  USDJPY   PUT  10.0  30.0  0.0\n",
              "9   10:32:00         1  EURCAD  CALL  10.0  32.0  0.0\n",
              "10  10:32:00         1  USDCAD  CALL  10.0  32.0  0.0\n",
              "11  10:32:00         1  USDCHF   PUT  10.0  32.0  0.0\n",
              "12  10:32:00         1  USDJPY   PUT  10.0  32.0  0.0\n",
              "13  16:25:00         1  USDJPY   PUT  16.0  25.0  0.0\n",
              "14  10:35:00         1  CADJPY   PUT  10.0  35.0  0.0\n",
              "15  10:35:00         1  GBPCHF   PUT  10.0  35.0  0.0\n",
              "16  10:35:00         1  USDCAD  CALL  10.0  35.0  0.0\n",
              "17  16:27:00         1  USDJPY   PUT  16.0  27.0  0.0\n",
              "18  10:37:00         1  CADJPY   PUT  10.0  37.0  0.0\n",
              "19  10:37:00         1  GBPCHF   PUT  10.0  37.0  0.0\n",
              "20  10:37:00         1  USDCAD  CALL  10.0  37.0  0.0\n",
              "21  17:20:00         1  USDJPY   PUT  17.0  20.0  0.0\n",
              "22  17:22:00         1  USDJPY   PUT  17.0  22.0  0.0\n",
              "23  11:50:00         1  GBPAUD  CALL  11.0  50.0  0.0\n",
              "24  11:52:00         1  GBPAUD  CALL  11.0  52.0  0.0\n",
              "25  12:45:00         1  EURGBP  CALL  12.0  45.0  0.0\n",
              "26  12:47:00         1  EURGBP  CALL  12.0  47.0  0.0\n",
              "27  12:50:00         1  CADJPY   PUT  12.0  50.0  0.0\n",
              "28  12:50:00         1  EURGBP  CALL  12.0  50.0  0.0\n",
              "29  12:50:00         1  USDCAD  CALL  12.0  50.0  0.0"
            ]
          },
          "metadata": {
            "tags": []
          },
          "execution_count": 75
        }
      ]
    },
    {
      "cell_type": "markdown",
      "metadata": {
        "id": "hYmqv9lBqL85"
      },
      "source": [
        "### Debug"
      ]
    },
    {
      "cell_type": "code",
      "metadata": {
        "id": "onZstixSqNKA",
        "outputId": "d80bfc57-4818-4299-c2d5-821e2ba9d43e",
        "colab": {
          "base_uri": "https://localhost:8080/",
          "height": 70
        }
      },
      "source": [
        "print('time before: ', time.localtime())\n",
        "info = iqapi.get_digital_current_profit('EURUSD-OTC',60)\n",
        "print('time after: ', time.localtime())"
      ],
      "execution_count": null,
      "outputs": [
        {
          "output_type": "stream",
          "text": [
            "time before:  time.struct_time(tm_year=2020, tm_mon=3, tm_mday=14, tm_hour=17, tm_min=36, tm_sec=50, tm_wday=5, tm_yday=74, tm_isdst=0)\n",
            "time after:  time.struct_time(tm_year=2020, tm_mon=3, tm_mday=14, tm_hour=17, tm_min=36, tm_sec=50, tm_wday=5, tm_yday=74, tm_isdst=0)\n"
          ],
          "name": "stdout"
        }
      ]
    },
    {
      "cell_type": "code",
      "metadata": {
        "id": "iV16A1PG1Z8V"
      },
      "source": [
        "cc=iqapi.get_realtime_candles(agent.curr_asset, agent.size_streaming)"
      ],
      "execution_count": null,
      "outputs": []
    },
    {
      "cell_type": "code",
      "metadata": {
        "id": "ol_KXd9wdV6R",
        "outputId": "7d9f7680-07e9-48a6-bf18-8e41c9e82c73",
        "colab": {
          "base_uri": "https://localhost:8080/",
          "height": 34
        }
      },
      "source": [
        "cc[1584280232]['to']"
      ],
      "execution_count": null,
      "outputs": [
        {
          "output_type": "execute_result",
          "data": {
            "text/plain": [
              "1584280233"
            ]
          },
          "metadata": {
            "tags": []
          },
          "execution_count": 37
        }
      ]
    },
    {
      "cell_type": "code",
      "metadata": {
        "id": "KDcnvXUed6XL",
        "outputId": "8e64fbbd-6665-4f5b-b8f4-b67a476564e7",
        "colab": {
          "base_uri": "https://localhost:8080/",
          "height": 34
        }
      },
      "source": [
        "int(datetime.fromtimestamp(cc[1584280232]['from']).strftime('%M'))"
      ],
      "execution_count": null,
      "outputs": [
        {
          "output_type": "execute_result",
          "data": {
            "text/plain": [
              "50"
            ]
          },
          "metadata": {
            "tags": []
          },
          "execution_count": 56
        }
      ]
    },
    {
      "cell_type": "code",
      "metadata": {
        "id": "pRFgC4QrgISF",
        "outputId": "1797da91-b66b-42a7-9b2f-57997474dd30",
        "colab": {
          "base_uri": "https://localhost:8080/",
          "height": 54
        }
      },
      "source": [
        "time.localtime()"
      ],
      "execution_count": null,
      "outputs": [
        {
          "output_type": "execute_result",
          "data": {
            "text/plain": [
              "time.struct_time(tm_year=2020, tm_mon=3, tm_mday=15, tm_hour=11, tm_min=2, tm_sec=14, tm_wday=6, tm_yday=75, tm_isdst=0)"
            ]
          },
          "metadata": {
            "tags": []
          },
          "execution_count": 47
        }
      ]
    },
    {
      "cell_type": "code",
      "metadata": {
        "id": "zcEggOksfjDb"
      },
      "source": [
        "strftime"
      ],
      "execution_count": null,
      "outputs": []
    },
    {
      "cell_type": "code",
      "metadata": {
        "id": "xjBFfcSSI2nC"
      },
      "source": [
        "goal = 'AUDJPY'\n",
        "size = 1\n",
        "\n",
        "loop = True\n",
        "loop2 = True\n",
        "while loop:\n",
        "  #if time.localtime().tm_sec % 10 == 0:\n",
        "  print('================== /n')\n",
        "  print(time.localtime().tm_sec)\n",
        "\n",
        "  iqapi.start_candles_stream(goal,size, 1)\n",
        "\n",
        "  print(\"print candles\")\n",
        "  while loop2:\n",
        "    cc=iqapi.get_realtime_candles(goal,size)\n",
        "    for k in cc:\n",
        "      if int(datetime.fromtimestamp(cc[k]['to']).strftime(\"%S\")) % 10 == 0:\n",
        "        print(goal,\"size\",k,cc[k])\n",
        "        print('current time executed: ', time.localtime().tm_sec)\n",
        "        print('the current seconds on the server: ', int(datetime.fromtimestamp(cc[k]['to']).strftime(\"%S\")))\n",
        "    time.sleep(1)\n",
        "  print(\"stop candle\")\n",
        "  iqapi.stop_candles_stream(goal,size)\n",
        "  loop = False"
      ],
      "execution_count": null,
      "outputs": []
    },
    {
      "cell_type": "code",
      "metadata": {
        "id": "t__TGImfME4q"
      },
      "source": [
        "_, id = iqapi.buy(1, 'EURUSD-OTC', 'call', 1)"
      ],
      "execution_count": null,
      "outputs": []
    },
    {
      "cell_type": "code",
      "metadata": {
        "id": "C-NlFQPQdPFK"
      },
      "source": [
        "id = iqapi.buy_digital_spot('EURCHF-OTC', 1, 'call', 5)"
      ],
      "execution_count": null,
      "outputs": []
    },
    {
      "cell_type": "code",
      "metadata": {
        "id": "VUsrHPtUhvBB",
        "outputId": "4b27d43d-2d3b-48d6-92ad-1f29da28f6a8",
        "colab": {
          "base_uri": "https://localhost:8080/",
          "height": 34
        }
      },
      "source": [
        "id"
      ],
      "execution_count": null,
      "outputs": [
        {
          "output_type": "execute_result",
          "data": {
            "text/plain": [
              "'error'"
            ]
          },
          "metadata": {
            "tags": []
          },
          "execution_count": 53
        }
      ]
    },
    {
      "cell_type": "code",
      "metadata": {
        "id": "T0qB9vouSOq4"
      },
      "source": [
        "order_dict = iqapi.get_async_order(id)"
      ],
      "execution_count": null,
      "outputs": []
    },
    {
      "cell_type": "code",
      "metadata": {
        "id": "K_-Gr3frD3lD"
      },
      "source": [
        "order_dict"
      ],
      "execution_count": null,
      "outputs": []
    },
    {
      "cell_type": "code",
      "metadata": {
        "id": "W0EJgg4bbrcn",
        "outputId": "bd595e21-e754-461a-c28e-ce60768a09f6",
        "colab": {
          "base_uri": "https://localhost:8080/",
          "height": 34
        }
      },
      "source": [
        "agent.curr_trade_id"
      ],
      "execution_count": null,
      "outputs": [
        {
          "output_type": "execute_result",
          "data": {
            "text/plain": [
              "0"
            ]
          },
          "metadata": {
            "tags": []
          },
          "execution_count": 24
        }
      ]
    },
    {
      "cell_type": "code",
      "metadata": {
        "id": "GOPHRXD5bsG5"
      },
      "source": [
        "# after waking up Lets trade!!!\n",
        "    if agent.last_trade_won:\n",
        "      print('iniciando negociação soros')\n",
        "      print('valor negociado: ', agent.trade_size)\n",
        "      #agent.set_asset_and_order()\n",
        "      opened = agent.open_soros()\n",
        "      agent.start_streaming()\n",
        "      loss = agent.candle_analysis()\n",
        "    else:\n",
        "\n",
        "elif do_soros:\n",
        "        print('-------')\n",
        "        print('meta do dia ou stop loss não alcançados ainda.')\n",
        "        print('continuaremos a negociar.')\n",
        "        print('checking for soros...')\n",
        "        agent.open_soros()\n",
        "        soros_loss = agent.candle_analysis()\n",
        "\n",
        "        # atualiza lucro ou perda geral do dia\n",
        "        agent.set_profit_loss(soros_loss)\n",
        "        if soros_loss:\n",
        "          print( 'infelizmetne vc perdeu no soros')\n",
        "          # se eu perco no soros, tenho que abrir martingale normal\n",
        "          agent.reset_trade_size()\n",
        "          opened = agent.open_martingale()\n",
        "          if opened == False:\n",
        "            print('parando while loop pois instrumento não existe')\n",
        "            agent.reset_defaults()\n",
        "            continue\n",
        "          mart_loss = agent.candle_analysis()\n",
        "\n",
        "          # atualiza lucro ou perda geral do dia\n",
        "          agent.set_profit_loss(mart_loss)\n",
        "\n",
        "          if mart_loss:\n",
        "            print('Número máximo de martingale atingido.')\n",
        "            print('infelizmente você não ganhou dessa vez.')\n",
        "            is_final_break = agent.is_final_break()\n",
        "            if is_final_break:\n",
        "              break\n",
        "          else:\n",
        "            print('parabens você ganhou no martingale.')\n",
        "            is_final_break = agent.is_final_break()\n",
        "            if is_final_break:\n",
        "              break\n",
        "        else:\n",
        "          print('parabens você ganhou no soros')\n",
        "        # verifica se meta do dia foi atingida\n",
        "        is_final_break = agent.is_final_break()\n",
        "        if is_final_break:\n",
        "          agent.reset_defaults()\n",
        "          break\n",
        "      elif do_soros == False:\n"
      ],
      "execution_count": null,
      "outputs": []
    },
    {
      "cell_type": "markdown",
      "metadata": {
        "id": "nhi62pyXsEAe"
      },
      "source": [
        "### Version update history\n",
        "Version 0.1\n",
        "  * correção de bug verifica se a trade foi aberta\n",
        "  * correção na duração da trade para diferentes timeframes"
      ]
    }
  ]
}