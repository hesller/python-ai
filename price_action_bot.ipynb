{
  "nbformat": 4,
  "nbformat_minor": 0,
  "metadata": {
    "colab": {
      "name": "price_action_bot.ipynb",
      "provenance": [],
      "authorship_tag": "ABX9TyM0SNDdPgT+naN44GDg0fsm",
      "include_colab_link": true
    },
    "kernelspec": {
      "name": "python3",
      "display_name": "Python 3"
    }
  },
  "cells": [
    {
      "cell_type": "markdown",
      "metadata": {
        "id": "view-in-github",
        "colab_type": "text"
      },
      "source": [
        "<a href=\"https://colab.research.google.com/github/hesller/python-ai/blob/main/price_action_bot.ipynb\" target=\"_parent\"><img src=\"https://colab.research.google.com/assets/colab-badge.svg\" alt=\"Open In Colab\"/></a>"
      ]
    },
    {
      "cell_type": "code",
      "metadata": {
        "id": "5_f9c2jgwSqW"
      },
      "source": [
        "!sudo pip3 install -U git+git://github.com/Lu-Yi-Hsun/iqoptionapi.git"
      ],
      "execution_count": null,
      "outputs": []
    },
    {
      "cell_type": "code",
      "metadata": {
        "id": "UZdQxijuwbMx"
      },
      "source": [
        "import pandas as pd\n",
        "import numpy as np\n",
        "import time\n",
        "import os\n",
        "from iqoptionapi.stable_api import IQ_Option\n",
        "import logging\n",
        "from datetime import datetime\n",
        "\n",
        "logging.disable(level=logging.CRITICAL)"
      ],
      "execution_count": null,
      "outputs": []
    },
    {
      "cell_type": "code",
      "metadata": {
        "id": "OwKjCXd3we_Q"
      },
      "source": [
        "os.environ['TZ'] = 'Brazil/East'\n",
        "time.tzset()"
      ],
      "execution_count": null,
      "outputs": []
    },
    {
      "cell_type": "code",
      "metadata": {
        "id": "uoXTwrHuwvJl"
      },
      "source": [
        "trades_dict = {\n",
        "    #'AUDCAD': [0.0000, 0.83938], #suport and resistence\n",
        "    'NZDUSD-OTC': [0.56906, 0.56991],\n",
        "    'EURUSD-OTC': [0, 1.06837],\n",
        "    'EURGBP-OTC': [0.90761, 0.90906]\n",
        "}"
      ],
      "execution_count": null,
      "outputs": []
    },
    {
      "cell_type": "code",
      "metadata": {
        "id": "1gJDoxIPxBtd"
      },
      "source": [
        "def open_process(dataset, key, trade_type):\n",
        "  iqapi = IQ_Option(\"eng.hesller@gmail.com\",\"IQZinho1508!\")\n",
        "  iqapi.change_balance('PRACTICE')\n",
        "  print('========================================')\n",
        "  print('the current balance', iqapi.get_balance())\n",
        "  print('this process is regarding to the:')\n",
        "  print('asset: ', key)\n",
        "  print('support/resistence ', dataset[key][:])\n",
        "\n",
        "  iqapi.start_candles_stream(str(key),1,1)\n",
        "  time.sleep(5)\n",
        "\n",
        "  bought = False\n",
        "\n",
        "  while not bought:\n",
        "    cc=iqapi.get_realtime_candles(str(key), 1)\n",
        "\n",
        "    if trade_type == 'turbo':\n",
        "      for k in cc:\n",
        "        if cc[k]['close'] <= dataset[str(key)][0]:\n",
        "          iqapi.buy(price=2,ACTIVES=str(key),ACTION='call', expirations=2)\n",
        "          print('order bought')\n",
        "          bought= True\n",
        "          break\n",
        "        elif cc[k]['close'] >= dataset[str(key)][1]:\n",
        "          iqapi.buy(price=2,ACTIVES=str(key),ACTION='put', expirations=2)\n",
        "          print('order bought')\n",
        "          bought= True\n",
        "          break\n",
        "    elif trade_type == 'digital':\n",
        "      for k in cc:\n",
        "        if cc[k]['close'] <= dataset[str(key)][0]:\n",
        "          iqapi.buy_digital_spot(amount=2,ACTIVES=str(key),action='call', duration=2)\n",
        "          print('order bought')\n",
        "          bought= True\n",
        "          break\n",
        "        elif cc[k]['close'] >= dataset[str(key)][1]:\n",
        "          iqapi.buy_digital_spot(amount=2,active=str(key),action='put', duration=2)\n",
        "          print('order bought')\n",
        "          bought= True\n",
        "          break\n",
        "    time.sleep(1)\n",
        "  return 'finished'\n",
        "    "
      ],
      "execution_count": null,
      "outputs": []
    },
    {
      "cell_type": "code",
      "metadata": {
        "id": "mBA14SSqDW5i",
        "outputId": "d7c883b5-a299-441a-8214-fd4d225a8add",
        "colab": {
          "base_uri": "https://localhost:8080/",
          "height": 370
        }
      },
      "source": [
        "import concurrent.futures\n",
        "\n",
        "with concurrent.futures.ProcessPoolExecutor(max_workers=10) as executor:\n",
        "  result = []\n",
        "  for k in trades_dict:\n",
        "    res = executor.submit(open_process, trades_dict, k, 'turbo')\n",
        "    result.append(res)\n",
        "\n",
        "  for f in concurrent.futures.as_completed(result):\n",
        "    print(f.result())"
      ],
      "execution_count": null,
      "outputs": [
        {
          "output_type": "stream",
          "text": [
            "========================================\n",
            "========================================\n",
            "========================================\n",
            "the current balance 3925.7\n",
            "this process is regarding to the:\n",
            "asset:  NZDUSD-OTC\n",
            "support/resistence  [0.56906, 0.56991]\n",
            "the current balance 3925.7\n",
            "this process is regarding to the:\n",
            "asset:  EURUSD-OTC\n",
            "support/resistence  [0, 1.06837]\n",
            "the current balance 3925.7\n",
            "this process is regarding to the:\n",
            "asset:  EURGBP-OTC\n",
            "support/resistence  [0.90761, 0.90906]\n",
            "order bought\n",
            "finished\n",
            "order bought\n",
            "finished\n",
            "order bought\n",
            "finished\n"
          ],
          "name": "stdout"
        }
      ]
    },
    {
      "cell_type": "code",
      "metadata": {
        "id": "B3By24KQGYKg",
        "outputId": "88666220-22ea-4b43-ba8c-332b2efe21f1",
        "colab": {
          "base_uri": "https://localhost:8080/",
          "height": 50
        }
      },
      "source": [
        "for k in trades_dict:\n",
        "  print(k)"
      ],
      "execution_count": null,
      "outputs": [
        {
          "output_type": "stream",
          "text": [
            "AUDCAD\n",
            "EURCAD\n"
          ],
          "name": "stdout"
        }
      ]
    },
    {
      "cell_type": "markdown",
      "metadata": {
        "id": "Sac6dx59CtuA"
      },
      "source": [
        "### Debug"
      ]
    },
    {
      "cell_type": "code",
      "metadata": {
        "id": "EUll5qwt3N6N",
        "outputId": "fe56230b-f3dc-486a-9051-3bf90ba720bb",
        "colab": {
          "base_uri": "https://localhost:8080/",
          "height": 34
        }
      },
      "source": [
        "iqapi = IQ_Option(\"eng.hesller@gmail.com\",\"IQZinho1508!\")\n",
        "iqapi.change_balance('PRACTICE')\n",
        "print('the current balance', iqapi.get_balance())\n",
        "\n",
        "iqapi.start_candles_stream(str('EURUSD'),1,1)\n",
        "time.sleep(5)"
      ],
      "execution_count": null,
      "outputs": [
        {
          "output_type": "stream",
          "text": [
            "the current balance 3944.06\n"
          ],
          "name": "stdout"
        }
      ]
    },
    {
      "cell_type": "code",
      "metadata": {
        "id": "i_8geRu8-Fez"
      },
      "source": [
        "cc=iqapi.get_realtime_candles(str(key), 1)\n",
        "for k in cc:\n",
        "  curr_sec = int(datetime.fromtimestamp(cc[k]['from']).strftime(\"%S\"))\n",
        "  curr_min = int(datetime.fromtimestamp(cc[k]['from']).strftime(\"%M\"))\n",
        "  curr_time = curr_min * 60 + curr_sec + 1\n",
        "  if cc[k]['close']\n",
        "  if curr_time % (self.trade_duration * 60) == 0:\n",
        "    print(f'/n Agent_{self.name} verificando vitória ou derrota...')\n",
        "    loss = self.check_win_loss(cc, k)\n",
        "    checked = True\n",
        "    break\n",
        "if checked:\n",
        "  break\n",
        "time.sleep(1)"
      ],
      "execution_count": null,
      "outputs": []
    },
    {
      "cell_type": "code",
      "metadata": {
        "id": "TFmAjt04-K49",
        "outputId": "e72cdd44-62bd-4bcf-c880-e4f3d152e109",
        "colab": {
          "base_uri": "https://localhost:8080/",
          "height": 34
        }
      },
      "source": [
        "cc=iqapi.get_realtime_candles('EURUSD', 1)\n",
        "for k in cc:\n",
        "  print(cc[k]['close'])"
      ],
      "execution_count": null,
      "outputs": [
        {
          "output_type": "stream",
          "text": [
            "1.06981\n"
          ],
          "name": "stdout"
        }
      ]
    },
    {
      "cell_type": "code",
      "metadata": {
        "id": "47-oEIhX-3Lg",
        "outputId": "07aa824a-cc73-42dc-cbb3-8b5581092bc2",
        "colab": {
          "base_uri": "https://localhost:8080/",
          "height": 34
        }
      },
      "source": [
        "for k in cc:\n",
        "  print(cc[k]['close'])"
      ],
      "execution_count": null,
      "outputs": [
        {
          "output_type": "stream",
          "text": [
            "1.069445\n"
          ],
          "name": "stdout"
        }
      ]
    },
    {
      "cell_type": "code",
      "metadata": {
        "id": "MiXs6uWG-SRh"
      },
      "source": [
        ""
      ],
      "execution_count": null,
      "outputs": []
    },
    {
      "cell_type": "code",
      "metadata": {
        "id": "ZVluDE98Cv5f"
      },
      "source": [
        ""
      ],
      "execution_count": null,
      "outputs": []
    }
  ]
}