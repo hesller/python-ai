{
  "nbformat": 4,
  "nbformat_minor": 0,
  "metadata": {
    "colab": {
      "name": "rltrader.ipynb",
      "provenance": [],
      "collapsed_sections": [],
      "mount_file_id": "1xRBrrJM901EghGHNlCgizKY2GDwzz7T6",
      "authorship_tag": "ABX9TyNrXEkP6sX+SC3iag4lgax5",
      "include_colab_link": true
    },
    "kernelspec": {
      "display_name": "Python 3",
      "name": "python3"
    },
    "language_info": {
      "name": "python"
    },
    "accelerator": "GPU"
  },
  "cells": [
    {
      "cell_type": "markdown",
      "metadata": {
        "id": "view-in-github",
        "colab_type": "text"
      },
      "source": [
        "<a href=\"https://colab.research.google.com/github/hesller/python-ai/blob/main/rltrader.ipynb\" target=\"_parent\"><img src=\"https://colab.research.google.com/assets/colab-badge.svg\" alt=\"Open In Colab\"/></a>"
      ]
    },
    {
      "cell_type": "code",
      "metadata": {
        "id": "uakFOoPbGxt4"
      },
      "source": [
        "!pip install tensortrade[tf,tensorforce,baselines,ccxt,fbm]"
      ],
      "execution_count": null,
      "outputs": []
    },
    {
      "cell_type": "code",
      "metadata": {
        "id": "O9-2xIiUHO9G"
      },
      "source": [
        "!pip install mpl_finance ccxt ta"
      ],
      "execution_count": null,
      "outputs": []
    },
    {
      "cell_type": "code",
      "metadata": {
        "id": "E6Cs03RGkQf0"
      },
      "source": [
        "!pip uninstall tensorflow"
      ],
      "execution_count": null,
      "outputs": []
    },
    {
      "cell_type": "code",
      "metadata": {
        "id": "0ivKOYP1JUQC"
      },
      "source": [
        "!pip install -r requirements.txt"
      ],
      "execution_count": null,
      "outputs": []
    },
    {
      "cell_type": "code",
      "metadata": {
        "id": "Q-nyy5SvMRNT"
      },
      "source": [
        "!pip install tensorflow-gpu==1.15"
      ],
      "execution_count": null,
      "outputs": []
    },
    {
      "cell_type": "code",
      "metadata": {
        "id": "O-nmXjLMk4Qz"
      },
      "source": [
        "!python cli.py update-static-data"
      ],
      "execution_count": null,
      "outputs": []
    },
    {
      "cell_type": "code",
      "metadata": {
        "id": "pwEWTY8hO8ao"
      },
      "source": [
        "!pip install optuna==0.10\n"
      ],
      "execution_count": null,
      "outputs": []
    },
    {
      "cell_type": "code",
      "metadata": {
        "id": "trINxx4CL-pZ"
      },
      "source": [
        "!unzip Archive.zip"
      ],
      "execution_count": null,
      "outputs": []
    },
    {
      "cell_type": "code",
      "metadata": {
        "id": "9yQj_IAMMHOv"
      },
      "source": [
        "!python cli.py optimize"
      ],
      "execution_count": null,
      "outputs": []
    },
    {
      "cell_type": "code",
      "metadata": {
        "id": "WCK6KNBSSc3J"
      },
      "source": [
        "!python ./optimize.py"
      ],
      "execution_count": null,
      "outputs": []
    },
    {
      "cell_type": "markdown",
      "metadata": {
        "id": "cfIjc2j0_Q1c"
      },
      "source": [
        "**CODE ENVIRONMENT**"
      ]
    },
    {
      "cell_type": "code",
      "metadata": {
        "id": "QrIMXI-R74LA"
      },
      "source": [
        "import ta\n",
        "\n",
        "import pandas as pd\n",
        "import tensortrade.env.default as default\n",
        "\n",
        "from tensortrade.data.cdd import CryptoDataDownload\n",
        "from tensortrade.feed.core import Stream, DataFeed, NameSpace\n",
        "from tensortrade.oms.instruments import USD, BTC, ETH, LTC\n",
        "from tensortrade.oms.wallets import Wallet, Portfolio\n",
        "from tensortrade.oms.exchanges import Exchange\n",
        "from tensortrade.oms.services.execution.simulated import execute_order"
      ],
      "execution_count": null,
      "outputs": []
    },
    {
      "cell_type": "code",
      "metadata": {
        "id": "eWBaXfPv9RuC"
      },
      "source": [
        "cdd = CryptoDataDownload()\n",
        "\n",
        "bitfinex_data = pd.concat([\n",
        "    cdd.fetch(\"Bitfinex\", \"USD\", \"BTC\", \"1h\").add_prefix(\"BTC:\"),\n",
        "    cdd.fetch(\"Bitfinex\", \"USD\", \"ETH\", \"1h\").add_prefix(\"ETH:\")\n",
        "], axis=1)\n",
        "\n",
        "bitfinex_data.set_index('BTC:date', inplace=True)"
      ],
      "execution_count": null,
      "outputs": []
    },
    {
      "cell_type": "markdown",
      "metadata": {
        "id": "Zk9cptvh_2T_"
      },
      "source": [
        "**DEFINE THE EXCHANGE**"
      ]
    },
    {
      "cell_type": "code",
      "metadata": {
        "id": "N4mmBxQr8owe"
      },
      "source": [
        "bitfinex = Exchange(\"bitfinex\", service=execute_order)(\n",
        "    Stream.source(list(bitfinex_data['BTC:close']), dtype=\"float\").rename(\"USD-BTC\"),\n",
        "    Stream.source(list(bitfinex_data['ETH:close']), dtype=\"float\").rename(\"USD-ETH\")\n",
        ")"
      ],
      "execution_count": null,
      "outputs": []
    },
    {
      "cell_type": "markdown",
      "metadata": {
        "id": "c0xM0Kx6_-eU"
      },
      "source": [
        "**DEFINE EXTERNAL DATAFEED**"
      ]
    },
    {
      "cell_type": "code",
      "metadata": {
        "id": "zSiHyRWK8cRO"
      },
      "source": [
        "# Add all features for bitstamp BTC & ETH\n",
        "bitfinex_btc = bitfinex_data.loc[:, [name.startswith(\"BTC\") for name in bitfinex_data.columns]]\n",
        "bitfinex_eth = bitfinex_data.loc[:, [name.startswith(\"ETH\") for name in bitfinex_data.columns]]\n",
        "\n",
        "ta.add_all_ta_features(\n",
        "    bitfinex_btc,\n",
        "    colprefix=\"BTC:\",\n",
        "    **{k: \"BTC:\" + k for k in ['open', 'high', 'low', 'close', 'volume']}\n",
        ")\n",
        "\n",
        "\n",
        "with NameSpace(\"bitfinex\"):\n",
        "    bitfinex_streams = [\n",
        "        Stream.source(list(bitfinex_btc[c]), dtype=\"float\").rename(c) for c in bitfinex_btc.columns\n",
        "    ]\n",
        "    bitfinex_streams += [\n",
        "        Stream.source(list(bitfinex_eth[c]), dtype=\"float\").rename(c) for c in bitfinex_eth.columns\n",
        "    ]\n",
        "\n",
        "def rsi(price: Stream[float], period: float) -> Stream[float]:\n",
        "    r = price.diff()\n",
        "    upside = r.clamp_min(0).abs()\n",
        "    downside = r.clamp_max(0).abs()\n",
        "    rs = upside.ewm(alpha=1 / period).mean() / downside.ewm(alpha=1 / period).mean()\n",
        "    return 100*(1 - (1 + rs) ** -1)\n",
        "\n",
        "\n",
        "def macd(price: Stream[float], fast: float, slow: float, signal: float) -> Stream[float]:\n",
        "    fm = price.ewm(span=fast, adjust=False).mean()\n",
        "    sm = price.ewm(span=slow, adjust=False).mean()\n",
        "    md = fm - sm\n",
        "    signal = md - md.ewm(span=signal, adjust=False).mean()\n",
        "    return signal\n",
        "\n",
        "cp = Stream.select(bitfinex_streams, lambda s: s.name == \"bitfinex:/BTC:close\")\n",
        "\n",
        "features = [\n",
        "    cp.log().diff().rename(\"BTC:lr\"),\n",
        "    rsi(cp, period=20).rename(\"BTC:rsi\"),\n",
        "    macd(cp, fast=10, slow=50, signal=5).rename(\"BTC:macd\")\n",
        "]\n",
        "\n",
        "\n",
        "cp = Stream.select(bitfinex_streams, lambda s: s.name == \"bitfinex:/ETH:close\")\n",
        "\n",
        "features = [\n",
        "    cp.log().diff().rename(\"ETH:lr\"),\n",
        "    rsi(cp, period=20).rename(\"ETH:rsi\"),\n",
        "    macd(cp, fast=10, slow=50, signal=5).rename(\"ETH:macd\")\n",
        "]\n",
        "\n",
        "bitfinex_streams += features\n",
        "\n",
        "feed = DataFeed(features)\n"
      ],
      "execution_count": null,
      "outputs": []
    },
    {
      "cell_type": "code",
      "metadata": {
        "id": "3YVRhbsveCNK"
      },
      "source": [
        "bitfinex_eth"
      ],
      "execution_count": null,
      "outputs": []
    },
    {
      "cell_type": "code",
      "metadata": {
        "id": "jOFebAYC2iQv"
      },
      "source": [
        "for stream in bitfinex_streams:\n",
        "  print(stream.name, stream.generic_name)"
      ],
      "execution_count": null,
      "outputs": []
    },
    {
      "cell_type": "markdown",
      "metadata": {
        "id": "q9QOKURwBEQD"
      },
      "source": [
        "**MAKE PORTFOLIO**"
      ]
    },
    {
      "cell_type": "code",
      "metadata": {
        "id": "id5em2q9AEdl"
      },
      "source": [
        "portfolio = Portfolio(USD, [\n",
        "    Wallet(bitfinex, 10000 * USD),\n",
        "    Wallet(bitfinex, 10 * BTC),\n",
        "    Wallet(bitfinex, 5 * ETH),\n",
        "])"
      ],
      "execution_count": null,
      "outputs": []
    },
    {
      "cell_type": "markdown",
      "metadata": {
        "id": "ebj-pJTnB-ab"
      },
      "source": [
        "**RENDERER FEED**"
      ]
    },
    {
      "cell_type": "code",
      "metadata": {
        "id": "LRWJiTMBCBEo"
      },
      "source": [
        "renderer_feed = DataFeed([\n",
        "    Stream.source(list(bitfinex_data[\"BTC:unix\"]), dtype=\"float\").rename(\"date\"),\n",
        "    Stream.source(list(bitfinex_data[\"BTC:open\"]), dtype=\"float\").rename(\"open\"),\n",
        "    Stream.source(list(bitfinex_data[\"BTC:high\"]), dtype=\"float\").rename(\"high\"),\n",
        "    Stream.source(list(bitfinex_data[\"BTC:low\"]), dtype=\"float\").rename(\"low\"),\n",
        "    Stream.source(list(bitfinex_data[\"BTC:close\"]), dtype=\"float\").rename(\"close\"),\n",
        "    Stream.source(list(bitfinex_data[\"BTC:volume\"]), dtype=\"float\").rename(\"volume\")\n",
        "])"
      ],
      "execution_count": null,
      "outputs": []
    },
    {
      "cell_type": "markdown",
      "metadata": {
        "id": "viJYXbKDBLIc"
      },
      "source": [
        "**CREATE ENVIRONMENT**"
      ]
    },
    {
      "cell_type": "code",
      "metadata": {
        "id": "pJ4bp2NMBKZA"
      },
      "source": [
        "import tensortrade.env.default as default\n",
        "\n",
        "env = default.create(\n",
        "    portfolio=portfolio,\n",
        "    action_scheme=\"managed-risk\",\n",
        "    reward_scheme=\"risk-adjusted\",\n",
        "    feed=feed,\n",
        "    renderer_feed=renderer_feed,\n",
        "    renderer=default.renderers.PlotlyTradingChart(),\n",
        "    window_size=20\n",
        ")"
      ],
      "execution_count": null,
      "outputs": []
    },
    {
      "cell_type": "code",
      "metadata": {
        "id": "ClUxZwONDNVA"
      },
      "source": [
        "env.observer.feed.next()"
      ],
      "execution_count": null,
      "outputs": []
    },
    {
      "cell_type": "markdown",
      "metadata": {
        "id": "IWuz36zFBXVF"
      },
      "source": [
        "**TRAIN AND EVALUATE**"
      ]
    },
    {
      "cell_type": "code",
      "metadata": {
        "id": "GsyWMXzsghig"
      },
      "source": [
        "!pip install ray==0.8.7\n",
        "!pip install symfit"
      ],
      "execution_count": null,
      "outputs": []
    },
    {
      "cell_type": "code",
      "metadata": {
        "id": "1UAVqPnsB7sv"
      },
      "source": [
        "import ray\n",
        "import numpy as np\n",
        "\n",
        "from ray import tune\n",
        "from ray.tune.registry import register_env\n",
        "\n",
        "import tensortrade.env.default as default\n",
        "\n",
        "from tensortrade.feed.core import DataFeed, Stream\n",
        "from tensortrade.oms.instruments import Instrument\n",
        "from tensortrade.oms.exchanges import Exchange\n",
        "from tensortrade.oms.services.execution.simulated import execute_order\n",
        "from tensortrade.oms.wallets import Wallet, Portfolio"
      ],
      "execution_count": null,
      "outputs": []
    },
    {
      "cell_type": "code",
      "metadata": {
        "id": "Jtnoxf80okiV"
      },
      "source": [
        "cdd = CryptoDataDownload()\n",
        "\n",
        "bitfinex_data = pd.concat([\n",
        "  cdd.fetch(\"Bitfinex\", \"USD\", \"BTC\", \"1h\").add_prefix(\"BTC:\"),\n",
        "], axis=1)\n",
        "\n",
        "# add the bitfinex dataset\n",
        "# bitfinex_data.set_index('BTC:date', inplace=True)\n",
        "\n",
        "# add the exchange\n",
        "bitfinex = Exchange(\"bitfinex\", service=execute_order)(\n",
        "  Stream.source(list(bitfinex_data['BTC:close']), dtype=\"float\").rename(\"USD-BTC\")\n",
        ")\n",
        "\n",
        "# Add all features for bitstamp BTC & ETH\n",
        "bitfinex_btc = bitfinex_data.loc[:, [name.startswith(\"BTC\") for name in bitfinex_data.columns]]\n",
        "\n",
        "# ta.add_all_ta_features(\n",
        "#     bitfinex_btc,\n",
        "#     colprefix=\"BTC:\",\n",
        "#     **{k: \"BTC:\" + k for k in ['open', 'high', 'low', 'close', 'volume']}\n",
        "# )\n",
        "\n",
        "with NameSpace(\"bitfinex\"):\n",
        "    bitfinex_streams = [\n",
        "        Stream.source(list(bitfinex_btc[c]), dtype=\"float\").rename(c) for c in bitfinex_btc.columns\n",
        "    ]\n",
        "\n",
        "def rsi(price: Stream[float], period: float) -> Stream[float]:\n",
        "    r = price.diff()\n",
        "    upside = r.clamp_min(0).abs()\n",
        "    downside = r.clamp_max(0).abs()\n",
        "    rs = upside.ewm(alpha=1 / period).mean() / downside.ewm(alpha=1 / period).mean()\n",
        "    return 100*(1 - (1 + rs) ** -1)\n",
        "\n",
        "\n",
        "def macd(price: Stream[float], fast: float, slow: float, signal: float) -> Stream[float]:\n",
        "    fm = price.ewm(span=fast, adjust=False).mean()\n",
        "    sm = price.ewm(span=slow, adjust=False).mean()\n",
        "    md = fm - sm\n",
        "    signal = md - md.ewm(span=signal, adjust=False).mean()\n",
        "    return signal\n",
        "\n",
        "cp = Stream.select(bitfinex_streams, lambda s: s.name == \"bitfinex:/BTC:close\")\n",
        "\n",
        "features = [\n",
        "    cp.log().diff().rename(\"BTC:lr\"),\n",
        "    rsi(cp, period=20).rename(\"BTC:rsi\"),\n",
        "    macd(cp, fast=10, slow=50, signal=5).rename(\"BTC:macd\")\n",
        "]\n",
        "\n",
        "bitfinex_streams += features\n",
        "\n",
        "feed = DataFeed(bitfinex_streams)\n",
        "\n",
        "portfolio = Portfolio(USD, [\n",
        "  Wallet(bitfinex, 10000 * USD),\n",
        "  Wallet(bitfinex, 10 * BTC)\n",
        "])\n",
        "\n",
        "renderer_feed = DataFeed([\n",
        "  Stream.source(list(bitfinex_data[\"BTC:unix\"]), dtype=\"float\").rename(\"date\"),\n",
        "  Stream.source(list(bitfinex_data[\"BTC:open\"]), dtype=\"float\").rename(\"open\"),\n",
        "  Stream.source(list(bitfinex_data[\"BTC:high\"]), dtype=\"float\").rename(\"high\"),\n",
        "  Stream.source(list(bitfinex_data[\"BTC:low\"]), dtype=\"float\").rename(\"low\"),\n",
        "  Stream.source(list(bitfinex_data[\"BTC:close\"]), dtype=\"float\").rename(\"close\"),\n",
        "  Stream.source(list(bitfinex_data[\"BTC:volume\"]), dtype=\"float\").rename(\"volume\")\n",
        "])\n",
        "\n",
        "env = default.create(\n",
        "    portfolio=portfolio,\n",
        "    action_scheme=\"managed-risk\",\n",
        "    reward_scheme=\"risk-adjusted\",\n",
        "    feed=feed,\n",
        "    renderer_feed=renderer_feed,\n",
        "    renderer=default.renderers.MatplotlibTradingChart(),\n",
        "    window_size=25,\n",
        "    max_allowed_loss=0.6\n",
        ")"
      ],
      "execution_count": null,
      "outputs": []
    },
    {
      "cell_type": "code",
      "metadata": {
        "id": "u61ep-QAP7Cw"
      },
      "source": [
        "def create_env(config):\n",
        "  cdd = CryptoDataDownload()\n",
        "\n",
        "  bitfinex_data = pd.concat([\n",
        "    cdd.fetch(\"Bitfinex\", \"USD\", \"BTC\", \"1h\").add_prefix(\"BTC:\"),\n",
        "  ], axis=1)\n",
        "\n",
        "  # add the bitfinex dataset\n",
        "  bitfinex_data.set_index('BTC:date', inplace=True)\n",
        "\n",
        "  # add the exchange\n",
        "  bitfinex = Exchange(\"bitfinex\", service=execute_order)(\n",
        "    Stream.source(list(bitfinex_data['BTC:close']), dtype=\"float\").rename(\"USD-BTC\")\n",
        "  )\n",
        "\n",
        "  # Add all features for bitstamp BTC & ETH\n",
        "  bitfinex_btc = bitfinex_data.loc[:, [name.startswith(\"BTC\") for name in bitfinex_data.columns]]\n",
        "\n",
        "  # ta.add_all_ta_features(\n",
        "  #     bitfinex_btc,\n",
        "  #     colprefix=\"BTC:\",\n",
        "  #     **{k: \"BTC:\" + k for k in ['open', 'high', 'low', 'close', 'volume']}\n",
        "  # )\n",
        "\n",
        "  with NameSpace(\"bitfinex\"):\n",
        "      bitfinex_streams = [\n",
        "          Stream.source(list(bitfinex_btc[c]), dtype=\"float\").rename(c) for c in bitfinex_btc.columns\n",
        "      ]\n",
        "\n",
        "  def rsi(price: Stream[float], period: float) -> Stream[float]:\n",
        "      r = price.diff()\n",
        "      upside = r.clamp_min(0).abs()\n",
        "      downside = r.clamp_max(0).abs()\n",
        "      rs = upside.ewm(alpha=1 / period).mean() / downside.ewm(alpha=1 / period).mean()\n",
        "      return 100*(1 - (1 + rs) ** -1)\n",
        "\n",
        "\n",
        "  def macd(price: Stream[float], fast: float, slow: float, signal: float) -> Stream[float]:\n",
        "      fm = price.ewm(span=fast, adjust=False).mean()\n",
        "      sm = price.ewm(span=slow, adjust=False).mean()\n",
        "      md = fm - sm\n",
        "      signal = md - md.ewm(span=signal, adjust=False).mean()\n",
        "      return signal\n",
        "\n",
        "  cp = Stream.select(bitfinex_streams, lambda s: s.name == \"bitfinex:/BTC:close\")\n",
        "\n",
        "  features = [\n",
        "      cp.log().diff().rename(\"BTC:lr\"),\n",
        "      rsi(cp, period=20).rename(\"BTC:rsi\"),\n",
        "      macd(cp, fast=10, slow=50, signal=5).rename(\"BTC:macd\")\n",
        "  ]\n",
        "\n",
        "  bitfinex_streams += features\n",
        "\n",
        "  feed = DataFeed(features)\n",
        "\n",
        "  portfolio = Portfolio(USD, [\n",
        "    Wallet(bitfinex, 10000 * USD),\n",
        "    Wallet(bitfinex, 10 * BTC)\n",
        "  ])\n",
        "\n",
        "  renderer_feed = DataFeed([\n",
        "    Stream.source(list(bitfinex_data[\"BTC:unix\"]), dtype=\"float\").rename(\"date\"),\n",
        "    Stream.source(list(bitfinex_data[\"BTC:open\"]), dtype=\"float\").rename(\"open\"),\n",
        "    Stream.source(list(bitfinex_data[\"BTC:high\"]), dtype=\"float\").rename(\"high\"),\n",
        "    Stream.source(list(bitfinex_data[\"BTC:low\"]), dtype=\"float\").rename(\"low\"),\n",
        "    Stream.source(list(bitfinex_data[\"BTC:close\"]), dtype=\"float\").rename(\"close\"),\n",
        "    Stream.source(list(bitfinex_data[\"BTC:volume\"]), dtype=\"float\").rename(\"volume\")\n",
        "  ])\n",
        "\n",
        "  env = default.create(\n",
        "      portfolio=portfolio,\n",
        "      action_scheme=\"managed-risk\",\n",
        "      reward_scheme=\"risk-adjusted\",\n",
        "      feed=feed,\n",
        "      renderer_feed=renderer_feed,\n",
        "      renderer=default.renderers.PlotlyTradingChart(),\n",
        "      window_size=config[\"window_size\"],\n",
        "      max_allowed_loss=0.6\n",
        "  )\n",
        "  return env"
      ],
      "execution_count": null,
      "outputs": []
    },
    {
      "cell_type": "code",
      "metadata": {
        "id": "Suxk30hxoQzS"
      },
      "source": [
        "env = create_env({'window_size': 25})"
      ],
      "execution_count": null,
      "outputs": []
    },
    {
      "cell_type": "code",
      "metadata": {
        "id": "b0c7zZuSrV4G"
      },
      "source": [
        "env.observer.feed.next()"
      ],
      "execution_count": null,
      "outputs": []
    },
    {
      "cell_type": "code",
      "metadata": {
        "id": "GOSQxt8DgjRx"
      },
      "source": [
        "register_env(\"TradingEnv\", create_env)"
      ],
      "execution_count": null,
      "outputs": []
    },
    {
      "cell_type": "code",
      "metadata": {
        "id": "fFBn93ntgsT8"
      },
      "source": [
        "analysis = tune.run(\n",
        "    \"PPO\",\n",
        "    stop={\n",
        "      \"episode_reward_mean\": 500\n",
        "    },\n",
        "    config={\n",
        "        \"env\": \"TradingEnv\",\n",
        "        \"env_config\": {\n",
        "            \"window_size\": 25\n",
        "        },\n",
        "        \"log_level\": \"DEBUG\",\n",
        "        \"framework\": \"torch\",\n",
        "        \"ignore_worker_failures\": True,\n",
        "        \"num_workers\": 1,\n",
        "        \"num_gpus\": 1,\n",
        "        \"clip_rewards\": True,\n",
        "        \"lr\": 8e-6,\n",
        "        \"lr_schedule\": [\n",
        "            [0, 1e-1],\n",
        "            [int(1e2), 1e-2],\n",
        "            [int(1e3), 1e-3],\n",
        "            [int(1e4), 1e-4],\n",
        "            [int(1e5), 1e-5],\n",
        "            [int(1e6), 1e-6],\n",
        "            [int(1e7), 1e-7]\n",
        "        ],\n",
        "        \"gamma\": 0,\n",
        "        \"observation_filter\": \"MeanStdFilter\",\n",
        "        \"lambda\": 0.72,\n",
        "        \"vf_loss_coeff\": 0.5,\n",
        "        \"entropy_coeff\": 0.01\n",
        "    },\n",
        "    checkpoint_at_end=True,\n",
        ")"
      ],
      "execution_count": null,
      "outputs": []
    },
    {
      "cell_type": "code",
      "metadata": {
        "id": "TVDCN1CEVTdU"
      },
      "source": [
        "import ray\n",
        "import numpy as np\n",
        "\n",
        "from ray import tune\n",
        "from ray.tune.registry import register_env\n",
        "\n",
        "import tensortrade.env.default as default\n",
        "\n",
        "from tensortrade.feed.core import DataFeed, Stream\n",
        "from tensortrade.oms.instruments import Instrument\n",
        "from tensortrade.oms.exchanges import Exchange\n",
        "from tensortrade.oms.services.execution.simulated import execute_order\n",
        "from tensortrade.oms.wallets import Wallet, Portfolio\n",
        "\n",
        "\n",
        "USD = Instrument(\"USD\", 2, \"U.S. Dollar\")\n",
        "TTC = Instrument(\"TTC\", 8, \"TensorTrade Coin\")\n",
        "\n",
        "\n",
        "def create_env(config):\n",
        "    cdd = CryptoDataDownload()\n",
        "\n",
        "    bitfinex_data = pd.concat([\n",
        "        cdd.fetch(\"Bitfinex\", \"USD\", \"BTC\", \"1h\").add_prefix(\"BTC:\"),\n",
        "        cdd.fetch(\"Bitfinex\", \"USD\", \"ETH\", \"1h\").add_prefix(\"ETH:\")\n",
        "    ], axis=1)\n",
        "\n",
        "    bitfinex_data.set_index('BTC:date', inplace=True)\n",
        "\n",
        "    bitfinex = Exchange(\"bitfinex\", service=execute_order)(\n",
        "      Stream.source(list(bitfinex_data['BTC:close']), dtype=\"float\").rename(\"USD-BTC\"),\n",
        "      Stream.source(list(bitfinex_data['ETH:close']), dtype=\"float\").rename(\"USD-ETH\")\n",
        "    )\n",
        "\n",
        "    cash = Wallet(bitfinex, 100000 * USD)\n",
        "    asset = Wallet(bitfinex, 0 * TTC)\n",
        "\n",
        "    portfolio = Portfolio(USD, [\n",
        "        cash,\n",
        "        asset\n",
        "    ])\n",
        "\n",
        "    feed = DataFeed([\n",
        "        p,\n",
        "        p.rolling(window=10).mean().rename(\"fast\"),\n",
        "        p.rolling(window=50).mean().rename(\"medium\"),\n",
        "        p.rolling(window=100).mean().rename(\"slow\"),\n",
        "        p.log().diff().fillna(0).rename(\"lr\")\n",
        "    ])\n",
        "\n",
        "    reward_scheme = default.rewards.PBR(price=p)\n",
        "\n",
        "    action_scheme = default.actions.BSH(\n",
        "        cash=cash,\n",
        "        asset=asset\n",
        "    ).attach(reward_scheme)\n",
        "\n",
        "    env = default.create(\n",
        "        feed=feed,\n",
        "        portfolio=portfolio,\n",
        "        action_scheme=action_scheme,\n",
        "        reward_scheme=reward_scheme,\n",
        "        window_size=config[\"window_size\"],\n",
        "        max_allowed_loss=0.6\n",
        "    )\n",
        "    return env\n",
        "\n",
        "\n",
        "register_env(\"TradingEnv\", create_env)\n",
        "\n",
        "\n",
        "analysis = tune.run(\n",
        "    \"PPO\",\n",
        "    stop={\n",
        "      \"episode_reward_mean\": 500\n",
        "    },\n",
        "    config={\n",
        "        \"env\": \"TradingEnv\",\n",
        "        \"env_config\": {\n",
        "            \"window_size\": 25\n",
        "        },\n",
        "        \"log_level\": \"DEBUG\",\n",
        "        \"framework\": \"torch\",\n",
        "        \"ignore_worker_failures\": True,\n",
        "        \"num_workers\": 1,\n",
        "        \"num_gpus\": 0,\n",
        "        \"clip_rewards\": True,\n",
        "        \"lr\": 8e-6,\n",
        "        \"lr_schedule\": [\n",
        "            [0, 1e-1],\n",
        "            [int(1e2), 1e-2],\n",
        "            [int(1e3), 1e-3],\n",
        "            [int(1e4), 1e-4],\n",
        "            [int(1e5), 1e-5],\n",
        "            [int(1e6), 1e-6],\n",
        "            [int(1e7), 1e-7]\n",
        "        ],\n",
        "        \"gamma\": 0,\n",
        "        \"observation_filter\": \"MeanStdFilter\",\n",
        "        \"lambda\": 0.72,\n",
        "        \"vf_loss_coeff\": 0.5,\n",
        "        \"entropy_coeff\": 0.01\n",
        "    },\n",
        "    checkpoint_at_end=True\n",
        ")"
      ],
      "execution_count": null,
      "outputs": []
    },
    {
      "cell_type": "code",
      "metadata": {
        "id": "eZxhf-CHD3ZC"
      },
      "source": [
        ""
      ],
      "execution_count": null,
      "outputs": []
    },
    {
      "cell_type": "code",
      "metadata": {
        "id": "ndbx1gybGu1b"
      },
      "source": [
        "!pip install ray==0.8.7\n",
        "!pip install symfit"
      ],
      "execution_count": null,
      "outputs": []
    },
    {
      "cell_type": "code",
      "metadata": {
        "id": "MJ0XaQ_CNHIo"
      },
      "source": [
        "!pip install tensorforce"
      ],
      "execution_count": null,
      "outputs": []
    },
    {
      "cell_type": "code",
      "metadata": {
        "id": "QFOyII68JLCm"
      },
      "source": [
        "!pip install stable-baselines3[extra]"
      ],
      "execution_count": null,
      "outputs": []
    },
    {
      "cell_type": "code",
      "metadata": {
        "id": "iYe8mxHkJ6gu",
        "colab": {
          "base_uri": "https://localhost:8080/",
          "height": 368
        },
        "outputId": "f7599daa-73c5-41c6-e4f5-39efe4c1a8d4"
      },
      "source": [
        "from tensorforce.agents import Agent\n",
        "\n",
        "network_spec = [\n",
        "    dict(type='dense', size=128, activation=\"tanh\"),\n",
        "    dict(type='dense', size=64, activation=\"tanh\"),\n",
        "    dict(type='dense', size=32, activation=\"tanh\")\n",
        "]\n",
        "\n",
        "agent_spec = {\n",
        "    \"type\": \"ppo_agent\",\n",
        "    \"step_optimizer\": {\n",
        "        \"type\": \"adam\",\n",
        "        \"learning_rate\": 1e-4\n",
        "    },\n",
        "    \"discount\": 0.99,\n",
        "    \"likelihood_ratio_clipping\": 0.2,\n",
        "}\n",
        "\n",
        "agent = Agent.from_spec(spec=agent_spec, kwargs=dict(network=network_spec,\n",
        "                                    states=env.states,\n",
        "                                    actions=env.actions))"
      ],
      "execution_count": null,
      "outputs": [
        {
          "output_type": "error",
          "ename": "ModuleNotFoundError",
          "evalue": "ignored",
          "traceback": [
            "\u001b[0;31m---------------------------------------------------------------------------\u001b[0m",
            "\u001b[0;31mModuleNotFoundError\u001b[0m                       Traceback (most recent call last)",
            "\u001b[0;32m<ipython-input-61-43409db14a30>\u001b[0m in \u001b[0;36m<module>\u001b[0;34m()\u001b[0m\n\u001b[1;32m      1\u001b[0m \u001b[0;34m\u001b[0m\u001b[0m\n\u001b[0;32m----> 2\u001b[0;31m \u001b[0;32mfrom\u001b[0m \u001b[0mtensorforce\u001b[0m\u001b[0;34m.\u001b[0m\u001b[0magents\u001b[0m \u001b[0;32mimport\u001b[0m \u001b[0mAgent\u001b[0m\u001b[0;34m\u001b[0m\u001b[0;34m\u001b[0m\u001b[0m\n\u001b[0m\u001b[1;32m      3\u001b[0m \u001b[0;34m\u001b[0m\u001b[0m\n\u001b[1;32m      4\u001b[0m network_spec = [\n\u001b[1;32m      5\u001b[0m     \u001b[0mdict\u001b[0m\u001b[0;34m(\u001b[0m\u001b[0mtype\u001b[0m\u001b[0;34m=\u001b[0m\u001b[0;34m'dense'\u001b[0m\u001b[0;34m,\u001b[0m \u001b[0msize\u001b[0m\u001b[0;34m=\u001b[0m\u001b[0;36m128\u001b[0m\u001b[0;34m,\u001b[0m \u001b[0mactivation\u001b[0m\u001b[0;34m=\u001b[0m\u001b[0;34m\"tanh\"\u001b[0m\u001b[0;34m)\u001b[0m\u001b[0;34m,\u001b[0m\u001b[0;34m\u001b[0m\u001b[0;34m\u001b[0m\u001b[0m\n",
            "\u001b[0;31mModuleNotFoundError\u001b[0m: No module named 'tensorforce'",
            "",
            "\u001b[0;31m---------------------------------------------------------------------------\u001b[0;32m\nNOTE: If your import is failing due to a missing package, you can\nmanually install dependencies using either !pip or !apt.\n\nTo view examples of installing some common dependencies, click the\n\"Open Examples\" button below.\n\u001b[0;31m---------------------------------------------------------------------------\u001b[0m\n"
          ],
          "errorDetails": {
            "actions": [
              {
                "action": "open_url",
                "actionText": "Open Examples",
                "url": "/notebooks/snippets/importing_libraries.ipynb"
              }
            ]
          }
        }
      ]
    },
    {
      "cell_type": "code",
      "metadata": {
        "id": "_aHs9XRZBWsU"
      },
      "source": [
        "import pandas as pd\n",
        "import tensortrade.env.default as default\n",
        "\n",
        "from stable_baselines3.ppo import PPO\n",
        "\n",
        "from ray import tune\n",
        "from ray.tune.registry import register_env\n",
        "\n",
        "from tensortrade.data.cdd import CryptoDataDownload\n",
        "from tensortrade.feed.core import Stream, DataFeed\n",
        "from tensortrade.oms.exchanges import Exchange\n",
        "from tensortrade.oms.services.execution.simulated import execute_order\n",
        "from tensortrade.oms.instruments import USD, BTC, ETH\n",
        "from tensortrade.oms.wallets import Wallet, Portfolio\n",
        "\n",
        "%matplotlib inline"
      ],
      "execution_count": null,
      "outputs": []
    },
    {
      "cell_type": "code",
      "metadata": {
        "id": "ZFO80-XIIYvY"
      },
      "source": [
        "from tensortrade.oms.instruments import Instrument\n",
        "\n",
        "USD = Instrument(\"USD\", 2, \"U.S. Dollar\")\n",
        "TTC = Instrument(\"TTC\", 8, \"TensorTrade Coin\")"
      ],
      "execution_count": null,
      "outputs": []
    },
    {
      "cell_type": "code",
      "metadata": {
        "id": "sqB_uVW9IUN0"
      },
      "source": [
        "from gym.spaces import Discrete\n",
        "\n",
        "from tensortrade.env.default.actions import TensorTradeActionScheme\n",
        "\n",
        "from tensortrade.env.generic import ActionScheme, TradingEnv\n",
        "from tensortrade.core import Clock\n",
        "from tensortrade.oms.instruments import ExchangePair\n",
        "from tensortrade.oms.wallets import Portfolio\n",
        "from tensortrade.oms.orders import (\n",
        "    Order,\n",
        "    proportion_order,\n",
        "    TradeSide,\n",
        "    TradeType\n",
        ")\n",
        "\n",
        "\n",
        "class BSH(TensorTradeActionScheme):\n",
        "\n",
        "    registered_name = \"bsh\"\n",
        "\n",
        "    def __init__(self, cash: 'Wallet', asset: 'Wallet'):\n",
        "        super().__init__()\n",
        "        self.cash = cash\n",
        "        self.asset = asset\n",
        "\n",
        "        self.listeners = []\n",
        "        self.action = 0\n",
        "\n",
        "    @property\n",
        "    def action_space(self):\n",
        "        return Discrete(2)\n",
        "\n",
        "    def attach(self, listener):\n",
        "        self.listeners += [listener]\n",
        "        return self\n",
        "\n",
        "    def get_orders(self, action: int, portfolio: 'Portfolio'):\n",
        "        order = None\n",
        "\n",
        "        if abs(action - self.action) > 0:\n",
        "            src = self.cash if self.action == 0 else self.asset\n",
        "            tgt = self.asset if self.action == 0 else self.cash\n",
        "            order = proportion_order(portfolio, src, tgt, 1.0)\n",
        "            self.action = action\n",
        "\n",
        "        for listener in self.listeners:\n",
        "            listener.on_action(action)\n",
        "\n",
        "        return [order]\n",
        "\n",
        "    def reset(self):\n",
        "        super().reset()\n",
        "        self.action = 0"
      ],
      "execution_count": null,
      "outputs": []
    },
    {
      "cell_type": "code",
      "metadata": {
        "id": "NPwaP0zWIQTj"
      },
      "source": [
        "from tensortrade.env.default.rewards import TensorTradeRewardScheme\n",
        "from tensortrade.feed.core import Stream, DataFeed\n",
        "\n",
        "\n",
        "class PBR(TensorTradeRewardScheme):\n",
        "\n",
        "    registered_name = \"pbr\"\n",
        "\n",
        "    def __init__(self, price: 'Stream'):\n",
        "        super().__init__()\n",
        "        self.position = -1\n",
        "\n",
        "        r = Stream.sensor(price, lambda p: p.value, dtype=\"float\").diff()\n",
        "        position = Stream.sensor(self, lambda rs: rs.position, dtype=\"float\")\n",
        "\n",
        "        reward = (r * position).fillna(0).rename(\"reward\")\n",
        "\n",
        "        self.feed = DataFeed([reward])\n",
        "        self.feed.compile()\n",
        "\n",
        "    def on_action(self, action: int):\n",
        "        self.position = -1 if action == 0 else 1\n",
        "\n",
        "    def get_reward(self, portfolio: 'Portfolio'):\n",
        "        return self.feed.next()[\"reward\"]\n",
        "\n",
        "    def reset(self):\n",
        "        self.position = -1\n",
        "        self.feed.reset()"
      ],
      "execution_count": null,
      "outputs": []
    },
    {
      "cell_type": "code",
      "metadata": {
        "id": "j9oVLOsaIF3n"
      },
      "source": [
        "import numpy as np\n",
        "import pandas as pd\n",
        "import matplotlib.pyplot as plt\n",
        "\n",
        "from tensortrade.env.generic import Renderer\n",
        "\n",
        "\n",
        "class PositionChangeChart(Renderer):\n",
        "\n",
        "    def __init__(self, color: str = \"orange\"):\n",
        "        self.color = \"orange\"\n",
        "\n",
        "    def render(self, env, **kwargs):\n",
        "        history = pd.DataFrame(env.observer.renderer_history)\n",
        "\n",
        "        actions = list(history.action)\n",
        "        p = list(history.price)\n",
        "\n",
        "        buy = {}\n",
        "        sell = {}\n",
        "\n",
        "        for i in range(len(actions) - 1):\n",
        "            a1 = actions[i]\n",
        "            a2 = actions[i + 1]\n",
        "\n",
        "            if a1 != a2:\n",
        "                if a1 == 0 and a2 == 1:\n",
        "                    buy[i] = p[i]\n",
        "                else:\n",
        "                    sell[i] = p[i]\n",
        "\n",
        "        buy = pd.Series(buy)\n",
        "        sell = pd.Series(sell)\n",
        "\n",
        "        fig, axs = plt.subplots(1, 2, figsize=(15, 5))\n",
        "\n",
        "        fig.suptitle(\"Performance\")\n",
        "\n",
        "        axs[0].plot(np.arange(len(p)), p, label=\"price\", color=self.color)\n",
        "        axs[0].scatter(buy.index, buy.values, marker=\"^\", color=\"green\")\n",
        "        axs[0].scatter(sell.index, sell.values, marker=\"^\", color=\"red\")\n",
        "        axs[0].set_title(\"Trading Chart\")\n",
        "\n",
        "        performance_df = pd.DataFrame().from_dict(env.action_scheme.portfolio.performance, orient='index')\n",
        "        performance_df.plot(ax=axs[1])\n",
        "        axs[1].set_title(\"Net Worth\")\n",
        "\n",
        "        plt.show()"
      ],
      "execution_count": null,
      "outputs": []
    },
    {
      "cell_type": "code",
      "metadata": {
        "id": "e3_vfF2dHZYI"
      },
      "source": [
        "def create_env(config):\n",
        "    x = np.arange(0, 2*np.pi, 2*np.pi / 1001)\n",
        "    y = 50*np.sin(3*x) + 100\n",
        "\n",
        "    x = np.arange(0, 2*np.pi, 2*np.pi / 1000)\n",
        "    p = Stream.source(y, dtype=\"float\").rename(\"USD-TTC\")\n",
        "\n",
        "    bitfinex = Exchange(\"bitfinex\", service=execute_order)(\n",
        "        p\n",
        "    )\n",
        "\n",
        "    cash = Wallet(bitfinex, 100000 * USD)\n",
        "    asset = Wallet(bitfinex, 0 * TTC)\n",
        "\n",
        "    portfolio = Portfolio(USD, [\n",
        "        cash,\n",
        "        asset\n",
        "    ])\n",
        "\n",
        "    feed = DataFeed([\n",
        "        p,\n",
        "        p.rolling(window=10).mean().rename(\"fast\"),\n",
        "        p.rolling(window=50).mean().rename(\"medium\"),\n",
        "        p.rolling(window=100).mean().rename(\"slow\"),\n",
        "        p.log().diff().fillna(0).rename(\"lr\")\n",
        "    ])\n",
        "\n",
        "    reward_scheme = PBR(price=p)\n",
        "\n",
        "    action_scheme = BSH(\n",
        "        cash=cash,\n",
        "        asset=asset\n",
        "    ).attach(reward_scheme)\n",
        "\n",
        "    renderer_feed = DataFeed([\n",
        "        Stream.source(y, dtype=\"float\").rename(\"price\"),\n",
        "        Stream.sensor(action_scheme, lambda s: s.action, dtype=\"float\").rename(\"action\")\n",
        "    ])\n",
        "\n",
        "    environment = default.create(\n",
        "        feed=feed,\n",
        "        portfolio=portfolio,\n",
        "        action_scheme=action_scheme,\n",
        "        reward_scheme=reward_scheme,\n",
        "        renderer_feed=renderer_feed,\n",
        "        renderer=PositionChangeChart(),\n",
        "        window_size=config[\"window_size\"],\n",
        "        max_allowed_loss=0.6\n",
        "    )\n",
        "    return environment\n"
      ],
      "execution_count": null,
      "outputs": []
    },
    {
      "cell_type": "code",
      "metadata": {
        "id": "kz2a5mkdDBXv"
      },
      "source": [
        "register_env(\"TradingEnv\", create_env)"
      ],
      "execution_count": null,
      "outputs": []
    },
    {
      "cell_type": "code",
      "metadata": {
        "id": "nSZOaborHhYq"
      },
      "source": [
        "analysis = tune.run(\n",
        "    \"PPO\",\n",
        "    stop={\n",
        "      \"episode_reward_mean\": 500\n",
        "    },\n",
        "    config={\n",
        "        \"env\": \"TradingEnv\",\n",
        "        \"env_config\": {\n",
        "            \"window_size\": 25\n",
        "        },\n",
        "        \"log_level\": \"DEBUG\",\n",
        "        \"framework\": \"torch\",\n",
        "        \"ignore_worker_failures\": True,\n",
        "        \"num_workers\": 1,\n",
        "        \"num_gpus\": 0,\n",
        "        \"clip_rewards\": True,\n",
        "        \"lr\": 8e-6,\n",
        "        \"lr_schedule\": [\n",
        "            [0, 1e-1],\n",
        "            [int(1e2), 1e-2],\n",
        "            [int(1e3), 1e-3],\n",
        "            [int(1e4), 1e-4],\n",
        "            [int(1e5), 1e-5],\n",
        "            [int(1e6), 1e-6],\n",
        "            [int(1e7), 1e-7]\n",
        "        ],\n",
        "        \"gamma\": 0,\n",
        "        \"observation_filter\": \"MeanStdFilter\",\n",
        "        \"lambda\": 0.72,\n",
        "        \"vf_loss_coeff\": 0.5,\n",
        "        \"entropy_coeff\": 0.01\n",
        "    },\n",
        "    checkpoint_at_end=False\n",
        ")"
      ],
      "execution_count": null,
      "outputs": []
    },
    {
      "cell_type": "code",
      "metadata": {
        "id": "ZhVX4o6cH1X7"
      },
      "source": [
        ""
      ],
      "execution_count": null,
      "outputs": []
    }
  ]
}